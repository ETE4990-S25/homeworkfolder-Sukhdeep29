{
 "cells": [
  {
   "cell_type": "code",
   "execution_count": 4,
   "metadata": {},
   "outputs": [
    {
     "ename": "ValueError",
     "evalue": "invalid literal for int() with base 10: 'Alter Ego,1985,Simulation,Activision,0,0.03,0,0.01,0.03,59,9,5.8,19,\"Viva Media, Viva Media, LLC\",T\\n'",
     "output_type": "error",
     "traceback": [
      "\u001b[1;31m---------------------------------------------------------------------------\u001b[0m",
      "\u001b[1;31mValueError\u001b[0m                                Traceback (most recent call last)",
      "Cell \u001b[1;32mIn[4], line 17\u001b[0m\n\u001b[0;32m     15\u001b[0m         \u001b[38;5;28;01mexcept\u001b[39;00m \u001b[38;5;167;01mValueError\u001b[39;00m:\n\u001b[0;32m     16\u001b[0m             \u001b[38;5;28;01mpass\u001b[39;00m\n\u001b[1;32m---> 17\u001b[0m data_array\u001b[38;5;241m=\u001b[39m \u001b[43mnp\u001b[49m\u001b[38;5;241;43m.\u001b[39;49m\u001b[43marray\u001b[49m\u001b[43m(\u001b[49m\u001b[43mdata\u001b[49m\u001b[43m,\u001b[49m\u001b[43m \u001b[49m\u001b[43mdtype\u001b[49m\u001b[38;5;241;43m=\u001b[39;49m\u001b[43mdtype\u001b[49m\u001b[43m)\u001b[49m  \n\u001b[0;32m     18\u001b[0m sorted_data\u001b[38;5;241m=\u001b[39m np\u001b[38;5;241m.\u001b[39msort(data_array, order\u001b[38;5;241m=\u001b[39m[\u001b[38;5;124m'\u001b[39m\u001b[38;5;124mName\u001b[39m\u001b[38;5;124m'\u001b[39m, \u001b[38;5;124m'\u001b[39m\u001b[38;5;124mYear\u001b[39m\u001b[38;5;124m'\u001b[39m, \u001b[38;5;124m'\u001b[39m\u001b[38;5;124mNA_Sales\u001b[39m\u001b[38;5;124m'\u001b[39m])\n\u001b[0;32m     20\u001b[0m count \u001b[38;5;241m=\u001b[39m \u001b[38;5;241m0\u001b[39m\n",
      "\u001b[1;31mValueError\u001b[0m: invalid literal for int() with base 10: 'Alter Ego,1985,Simulation,Activision,0,0.03,0,0.01,0.03,59,9,5.8,19,\"Viva Media, Viva Media, LLC\",T\\n'"
     ]
    }
   ],
   "source": [
    "\n",
    "import numpy as np\n",
    "filename=\"vgsales-2.csv\"\n",
    "dtype=[('Name', object),('Year', int), ('Sales', float)]\n",
    "data = []\n",
    "with open(filename, 'r') as file:\n",
    "    next(file)\n",
    "    for line in file:\n",
    "        data.append(line)\n",
    "        try:\n",
    "            columns= list(line)\n",
    "            name= columns[1]\n",
    "            year= int(float(columns[2]))\n",
    "            NA_sales= float(columns[6])\n",
    "            data.append((name, year, NA_sales))\n",
    "        except ValueError:\n",
    "            pass\n",
    "data_array= np.array(data, dtype=dtype)  \n",
    "sorted_data= np.sort(data_array, order=['Name', 'Year', 'NA_Sales'])\n",
    "\n",
    "count = 0\n",
    "for entry in sorted_data:\n",
    "    print(entry)\n",
    "    count+=1\n",
    "    if count == 10:\n",
    "        break\n",
    "\n"
   ]
  }
 ],
 "metadata": {
  "kernelspec": {
   "display_name": "Python 3",
   "language": "python",
   "name": "python3"
  },
  "language_info": {
   "codemirror_mode": {
    "name": "ipython",
    "version": 3
   },
   "file_extension": ".py",
   "mimetype": "text/x-python",
   "name": "python",
   "nbconvert_exporter": "python",
   "pygments_lexer": "ipython3",
   "version": "3.13.1"
  }
 },
 "nbformat": 4,
 "nbformat_minor": 2
}
