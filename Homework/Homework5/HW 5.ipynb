{
 "cells": [
  {
   "cell_type": "code",
   "execution_count": 11,
   "metadata": {},
   "outputs": [
    {
     "name": "stdout",
     "output_type": "stream",
     "text": [
      "(' Edd n Eddy: The Mis-Edventures\"', 2005, 0.01)\n",
      "(' Edd n Eddy: The Mis-Edventures\"', 2005, 0.01)\n",
      "(' Edd n Eddy: The Mis-Edventures\"', 2005, 0.05)\n",
      "(' Hidden Dragon\"', 2003, 0.05)\n",
      "(' Inc. Scream Arena\"', 2002, 0.07)\n",
      "(' Inc. Scream Team\"', 2001, 0.21)\n",
      "(' Inc.\"', 2002, 0.12)\n",
      "(' My Love\"', 2005, 0.05)\n",
      "(' My Love\"', 2010, 0.04)\n",
      "(' The Witch and The Wardrobe\"', 2005, 0.01)\n"
     ]
    }
   ],
   "source": [
    "###Sukhdeep Kaur, HW#5, March 12th, 2025\n",
    "import numpy as np\n",
    "filename=\"vgsales-2.csv\"\n",
    "dtype=[('Name', object),('Year', int), ('NA_Sales', float)]\n",
    "data = []\n",
    "with open(filename, 'r') as file:\n",
    "    next(file)\n",
    "    for line in file:\n",
    "        try:\n",
    "            columns= line.strip().split(\",\") ###Learned to use both strip and split for proper splitting from the web.\n",
    "            name= columns[1]\n",
    "            year= int(float(columns[2]))\n",
    "            NA_Sales= float(columns[6])\n",
    "            data.append((name, year, NA_Sales))\n",
    "        except ValueError:\n",
    "            pass\n",
    "data_array= np.array(data, dtype=dtype)  \n",
    "sorted_data= np.sort(data_array, order=['Name', 'Year', 'NA_Sales'])\n",
    "\n",
    "count = 0\n",
    "for entry in sorted_data:\n",
    "    print(entry)\n",
    "    count+=1\n",
    "    if count == 10:\n",
    "        break\n",
    "\n"
   ]
  }
 ],
 "metadata": {
  "kernelspec": {
   "display_name": "Python 3",
   "language": "python",
   "name": "python3"
  },
  "language_info": {
   "codemirror_mode": {
    "name": "ipython",
    "version": 3
   },
   "file_extension": ".py",
   "mimetype": "text/x-python",
   "name": "python",
   "nbconvert_exporter": "python",
   "pygments_lexer": "ipython3",
   "version": "3.13.1"
  }
 },
 "nbformat": 4,
 "nbformat_minor": 2
}
