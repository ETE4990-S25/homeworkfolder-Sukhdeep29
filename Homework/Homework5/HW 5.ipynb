{
 "cells": [
  {
   "cell_type": "code",
   "execution_count": null,
   "metadata": {},
   "outputs": [
    {
     "name": "stderr",
     "output_type": "stream",
     "text": [
      "UsageError: Cell magic `%%!pip` not found.\n"
     ]
    }
   ],
   "source": [
    "%%!pip install numpy\n",
    "import numpy as np\n",
    "filename=\"vssales.csv\"\n",
    "dtype=[('Name', object),('Year', int), ('Sales', float)]\n",
    "data = []\n",
    "with open(filename, 'r') as file:\n",
    "    next(file)\n",
    "    for line in file:\n",
    "        data.append(line)\n",
    "        try:\n",
    "            name= columns[1]\n",
    "            year= int(float(columns[2]))\n",
    "            NA_sales= float(columns[6])\n",
    "            data.append((name, year, NA_sales))\n",
    "        except ValueError:\n",
    "            pass\n",
    "data_array= np.array(data, dtype=dtype)  \n",
    "sorted_data= np.sort(data_array, order=['Name', 'Year', 'NA_Sales'])\n",
    "\n",
    "count = 10\n",
    "for entry in sorted_data:\n",
    "    print(entry)\n",
    "    count+=1\n",
    "    if count == 10:\n",
    "        break\n",
    "\n"
   ]
  }
 ],
 "metadata": {
  "kernelspec": {
   "display_name": "Python 3",
   "language": "python",
   "name": "python3"
  },
  "language_info": {
   "codemirror_mode": {
    "name": "ipython",
    "version": 3
   },
   "file_extension": ".py",
   "mimetype": "text/x-python",
   "name": "python",
   "nbconvert_exporter": "python",
   "pygments_lexer": "ipython3",
   "version": "3.13.1"
  }
 },
 "nbformat": 4,
 "nbformat_minor": 2
}
