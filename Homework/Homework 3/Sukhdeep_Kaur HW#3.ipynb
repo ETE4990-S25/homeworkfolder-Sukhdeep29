{
 "cells": [
  {
   "cell_type": "code",
   "execution_count": 14,
   "metadata": {},
   "outputs": [
    {
     "ename": "TypeError",
     "evalue": "saver.save_to_json() takes 2 positional arguments but 3 were given",
     "output_type": "error",
     "traceback": [
      "\u001b[1;31m---------------------------------------------------------------------------\u001b[0m",
      "\u001b[1;31mTypeError\u001b[0m                                 Traceback (most recent call last)",
      "Cell \u001b[1;32mIn[14], line 7\u001b[0m\n\u001b[0;32m      3\u001b[0m Kim \u001b[38;5;241m=\u001b[39m student(\u001b[38;5;124m\"\u001b[39m\u001b[38;5;124mKim\u001b[39m\u001b[38;5;124m\"\u001b[39m, \u001b[38;5;124m\"\u001b[39m\u001b[38;5;124mKaur\u001b[39m\u001b[38;5;124m\"\u001b[39m, \u001b[38;5;124m\"\u001b[39m\u001b[38;5;124mKimKaur@gamil.com\u001b[39m\u001b[38;5;124m\"\u001b[39m, \u001b[38;5;241m8592\u001b[39m)\n\u001b[0;32m      5\u001b[0m save \u001b[38;5;241m=\u001b[39m saver()\n\u001b[1;32m----> 7\u001b[0m \u001b[43msave\u001b[49m\u001b[38;5;241;43m.\u001b[39;49m\u001b[43msave_to_json\u001b[49m\u001b[43m(\u001b[49m\u001b[43mKim\u001b[49m\u001b[43m,\u001b[49m\u001b[38;5;124;43m\"\u001b[39;49m\u001b[38;5;124;43mstudent_data.json\u001b[39;49m\u001b[38;5;124;43m\"\u001b[39;49m\u001b[43m)\u001b[49m\n\u001b[0;32m      9\u001b[0m save\u001b[38;5;241m.\u001b[39mdisplay_json(\u001b[38;5;124m\"\u001b[39m\u001b[38;5;124mstudent_data.json\u001b[39m\u001b[38;5;124m\"\u001b[39m)\n",
      "\u001b[1;31mTypeError\u001b[0m: saver.save_to_json() takes 2 positional arguments but 3 were given"
     ]
    }
   ],
   "source": [
    "from SK_data import student, saver\n",
    "\n",
    "Kim = student(\"Kim\", \"Kaur\", \"KimKaur@gamil.com\", 8592)\n",
    "\n",
    "save = saver()\n",
    "\n",
    "save.save_to_json(Kim,\"student_data.json\")\n",
    "\n",
    "save.display_json(\"student_data.json\")\n"
   ]
  }
 ],
 "metadata": {
  "kernelspec": {
   "display_name": "Python 3",
   "language": "python",
   "name": "python3"
  },
  "language_info": {
   "codemirror_mode": {
    "name": "ipython",
    "version": 3
   },
   "file_extension": ".py",
   "mimetype": "text/x-python",
   "name": "python",
   "nbconvert_exporter": "python",
   "pygments_lexer": "ipython3",
   "version": "3.13.1"
  }
 },
 "nbformat": 4,
 "nbformat_minor": 5
}
