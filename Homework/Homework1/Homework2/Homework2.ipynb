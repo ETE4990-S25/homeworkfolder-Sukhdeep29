{
 "cells": [
  {
   "cell_type": "code",
   "execution_count": 3,
   "metadata": {},
   "outputs": [
    {
     "name": "stdout",
     "output_type": "stream",
     "text": [
      "Choose 1-3 options, 1: Add animals, 2: Remove animals, 3: Print Existing Animals\n"
     ]
    }
   ],
   "source": [
    "class Animals():\n",
    "    def __init__(self, name, age, vax, purpose, benefits):\n",
    "        self.name= name\n",
    "        self.age= age\n",
    "        self.vax= vax\n",
    "        self.purpose= purpose\n",
    "        self.benefits= benefits\n",
    "    \n",
    "    def get_info(self):\n",
    "        print(\"Animal:\" + self.name, \"Age limit:\" + self.age, \"Vaccinated:\" + self.vax, \"Purpose:\" + self.purpose, \"Benefits:\" + self.benefits)\n",
    "\n",
    "\n",
    "class Cows(Animals):\n",
    "    def __init__(self):\n",
    "        super().__init__(\"Cow\", \"15-20 years\" , \"yes\", \"Milk, meat, leather\", \"dairy products, sustainable food source, fertilizes soil\")\n",
    "\n",
    "class Pigs(Animals):\n",
    "    def __init__(self):\n",
    "        super().__init__(\"Pig\", \"12-25 years\", \"yes\", \"Meat, leather\", \"Waste management, fertilizes soil, biodiverse\")\n",
    "\n",
    "class Chickens(Animals):\n",
    "    def __init__(self):\n",
    "        super().__init__(\"Chicken\", \"5-7 years\", \"yes\", \"Eggs, meat\", \"Insect control, soil fertilizer, sustainable food source\")\n",
    "\n",
    "class Goats(Animals):\n",
    "    def __init__(self):\n",
    "        super().__init__(\"Goat\", \"15-18 years\", \"yes\", \"Milk, meat, cashmere\", \"Reduce weed/overgrowth\", \"fertilizes soil\")\n",
    "\n",
    "class Sheeps(Animals):\n",
    "    def __init__(self):\n",
    "        super().__init__(\"Sheep\", \"10-12 years\", \"yes\", \"Milk, meat, wool\", \"Dairy products, wool for clothes\")\n",
    "\n",
    "class Farm():\n",
    "    def __init__(self):\n",
    "        self.animals=[]\n",
    "\n",
    "    def add_animals(self,animal):\n",
    "        self.animals.append(animal)\n",
    "        print(animal.name + \"has been added to the farm.\")\n",
    "\n",
    "    def remove_animals(self,animal):\n",
    "        self.animals.remove(animal)\n",
    "        print(animal.name + \"has been removed from the farm.\")\n",
    "farm= Farm()\n",
    "while True:\n",
    "    choice= int()\n",
    "    input(print(\"Choose 1-3 options, 1: Add animals, 2: Remove animals, 3: Print Existing Animals\"))\n",
    "    if choice== 1:\n",
    "        print(\"Add an animal\")\n",
    "    elif choice== 2: \n",
    "        print(\"Remove an animal\")\n",
    "    elif choice== 3:\n",
    "        print(Animals)\n",
    "    break  \n",
    "else:\n",
    "    print(\"Invalid input, please try again\")\n",
    "    \n"
   ]
  }
 ],
 "metadata": {
  "kernelspec": {
   "display_name": "Python 3",
   "language": "python",
   "name": "python3"
  },
  "language_info": {
   "codemirror_mode": {
    "name": "ipython",
    "version": 3
   },
   "file_extension": ".py",
   "mimetype": "text/x-python",
   "name": "python",
   "nbconvert_exporter": "python",
   "pygments_lexer": "ipython3",
   "version": "3.13.1"
  }
 },
 "nbformat": 4,
 "nbformat_minor": 2
}
