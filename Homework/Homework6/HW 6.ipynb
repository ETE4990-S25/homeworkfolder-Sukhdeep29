{
 "cells": [
  {
   "cell_type": "code",
   "execution_count": 2,
   "metadata": {},
   "outputs": [
    {
     "name": "stdout",
     "output_type": "stream",
     "text": [
      "Odd\n",
      "Even\n"
     ]
    }
   ],
   "source": [
    "###Basic Lambda Function\n",
    "##To test odd or even\n",
    "def odd_or_even(x):\n",
    "    if x % 2 == 0:\n",
    "        return \"Even\"\n",
    "    else:\n",
    "        return \"Odd\" \n",
    "print(odd_or_even(5)) \n",
    "print(odd_or_even(10))"
   ]
  },
  {
   "cell_type": "code",
   "execution_count": 4,
   "metadata": {},
   "outputs": [
    {
     "name": "stdout",
     "output_type": "stream",
     "text": [
      "10\n"
     ]
    }
   ],
   "source": [
    "###Advanced Lambda Function\n",
    "##To sum a list\n",
    "def sum_list(y):\n",
    "    total = 0 \n",
    "    for num in y:\n",
    "        total += num\n",
    "    return total\n",
    "print (sum_list([2,2,2,2,2]))"
   ]
  },
  {
   "cell_type": "code",
   "execution_count": 3,
   "metadata": {},
   "outputs": [
    {
     "name": "stdout",
     "output_type": "stream",
     "text": [
      "[('Preet', 29), ('Reet', 32), ('Singh', 35)]\n"
     ]
    }
   ],
   "source": [
    "###Sorting with lambda\n",
    "def get_age(person):\n",
    "    return person[1]\n",
    "people = [(\"Preet\", 29), (\"Reet\", 32), (\"Singh\", 35)]\n",
    "print(sorted(people, key=get_age))\n"
   ]
  },
  {
   "cell_type": "code",
   "execution_count": 14,
   "metadata": {},
   "outputs": [
    {
     "name": "stdout",
     "output_type": "stream",
     "text": [
      "[2, 4, 6, 0]\n"
     ]
    }
   ],
   "source": [
    "###Filtering with lambda\n",
    "def filter_even(numbers):\n",
    "    result = []\n",
    "    for num in numbers:\n",
    "        if num % 2 == 0:\n",
    "            result.append(num)\n",
    "    return result\n",
    "numbers = [3,2,5,4,6,7,9,0]\n",
    "print(filter_even(numbers))\n"
   ]
  },
  {
   "cell_type": "code",
   "execution_count": 8,
   "metadata": {},
   "outputs": [
    {
     "name": "stdout",
     "output_type": "stream",
     "text": [
      "[9, 4, 25, 16, 36, 49, 81, 0]\n"
     ]
    }
   ],
   "source": [
    "###Mapping with lambda\n",
    "def square_numbers(numbers):\n",
    "    return list(map(lambda x: x**2, numbers))\n",
    "print(square_numbers(numbers))"
   ]
  },
  {
   "cell_type": "code",
   "execution_count": 11,
   "metadata": {},
   "outputs": [
    {
     "name": "stdout",
     "output_type": "stream",
     "text": [
      "0\n"
     ]
    }
   ],
   "source": [
    "###Reducing with lambda\n",
    "from functools import reduce ###learned about this from the internet. Need it to use reduce function. \n",
    "def multiply_numbers(numbers):\n",
    "    return reduce(lambda x, y: x*y, numbers)\n",
    "print(multiply_numbers(numbers))"
   ]
  },
  {
   "cell_type": "code",
   "execution_count": 12,
   "metadata": {},
   "outputs": [
    {
     "name": "stdout",
     "output_type": "stream",
     "text": [
      "[(3, 3), (4, 2), (5, 5), (6, 4), (7, 6), (8, 7), (9, 9), (10, 0)]\n"
     ]
    }
   ],
   "source": [
    "###Enumerating with lambda\n",
    "def enumerate_list(numbers):\n",
    "    return list(enumerate(numbers, start=3))\n",
    "print(enumerate_list(numbers))"
   ]
  },
  {
   "cell_type": "code",
   "execution_count": 13,
   "metadata": {},
   "outputs": [
    {
     "name": "stdout",
     "output_type": "stream",
     "text": [
      "[('Preet', 29), ('Reet', 32), ('Singh', 35)]\n"
     ]
    }
   ],
   "source": [
    "###Zipping with lambda\n",
    "def zip_lists(names, ages):\n",
    "    return list(zip(names, ages))\n",
    "names = [\"Preet\", \"Reet\", \"Singh\"]\n",
    "ages = [29, 32, 35]\n",
    "print(zip_lists(names, ages))"
   ]
  }
 ],
 "metadata": {
  "kernelspec": {
   "display_name": "Python 3",
   "language": "python",
   "name": "python3"
  },
  "language_info": {
   "codemirror_mode": {
    "name": "ipython",
    "version": 3
   },
   "file_extension": ".py",
   "mimetype": "text/x-python",
   "name": "python",
   "nbconvert_exporter": "python",
   "pygments_lexer": "ipython3",
   "version": "3.13.1"
  }
 },
 "nbformat": 4,
 "nbformat_minor": 2
}
