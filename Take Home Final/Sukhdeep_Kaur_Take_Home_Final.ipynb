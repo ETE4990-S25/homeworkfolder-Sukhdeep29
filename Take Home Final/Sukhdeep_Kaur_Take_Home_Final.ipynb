{
 "cells": [
  {
   "cell_type": "code",
   "execution_count": 44,
   "id": "ab0d3fc1",
   "metadata": {},
   "outputs": [],
   "source": [
    "%matplotlib inline\n",
    "import pandas as pd\n",
    "import seaborn as sns\n",
    "import matplotlib.pyplot as plt\n",
    "import os\n",
    "import json "
   ]
  },
  {
   "cell_type": "code",
   "execution_count": 45,
   "id": "d6da9dcf",
   "metadata": {},
   "outputs": [],
   "source": [
    "def load_data(currency):\n",
    "    folder = f\"data\"\n",
    "    all_data = []\n",
    "\n",
    "    if not os.path.exists(folder):\n",
    "        return pd.DataFrame()\n",
    "    \n",
    "    for file in sorted(os.listdir(folder)):\n",
    "        if file.endswith(\".json\"):\n",
    "            with open(os.path.join(folder, file), \"r\") as f:\n",
    "                data = json.load(f)\n",
    "                print(json.dumps(data, indent=4))\n",
    "                try:\n",
    "                    items = data[\"exchangeRates\"][\"item\"]\n",
    "                    date = data[\"exchangeRates\"][\"@currencyDate\"]\n",
    "                    if isinstance(items, dict):\n",
    "                        items = [items]\n",
    "                    for rate in items:\n",
    "                        to_code = rate[\"@currencyCode\"]\n",
    "                        value = float(rate[\"inverseRate\"])\n",
    "                        all_data.append({\"date\": date, \"to\": to_code, \"rate\": value})\n",
    "                except Exception as e:\n",
    "                    pass\n",
    "    df = pd.DataFrame(all_data)\n",
    "    if not df.empty:\n",
    "        df[\"date\"] = pd.to_datetime(df[\"date\"])\n",
    "    return df"
   ]
  },
  {
   "cell_type": "code",
   "execution_count": 46,
   "id": "d075036a",
   "metadata": {},
   "outputs": [],
   "source": [
    "currencies = [\"USD\", \"EUR\", \"GBP\", \"JPY\", \"CNY\"]\n",
    "all_frames = {}\n",
    "\n",
    "for c in currencies:\n",
    "    all_frames[c] = load_data(c)"
   ]
  },
  {
   "cell_type": "code",
   "execution_count": 42,
   "id": "0a2740e1",
   "metadata": {},
   "outputs": [
    {
     "name": "stdout",
     "output_type": "stream",
     "text": [
      "No data for USD\n",
      "No data for EUR\n",
      "No data for GBP\n",
      "No data for JPY\n",
      "No data for CNY\n"
     ]
    }
   ],
   "source": [
    "for currency, df in all_frames.items():\n",
    "    if df.empty:\n",
    "        print(f\"No data for {currency}\")\n",
    "        continue\n",
    "\n",
    "    top_currencies = df[\"to\"].value_counts().head(3).index\n",
    "\n",
    "    for to_curr in top_currencies:\n",
    "        sub = df[df[\"to\"] == to_curr]\n",
    "\n",
    "        plt.figure(figsize=(10, 4))\n",
    "        sns.lineplot(data=sub, x=\"date\", y=\"rate\")\n",
    "        plt.title(f\"{currency} to {to_curr} exchange rate over time\")\n",
    "        plt.xlabel(\"Date\")\n",
    "        plt.ylabel(\"Exchange Rate\")\n",
    "        plt.show()"
   ]
  },
  {
   "cell_type": "code",
   "execution_count": 43,
   "id": "1dcbfb57",
   "metadata": {},
   "outputs": [],
   "source": [
    "for currency, df in all_frames.items():\n",
    "    if df.empty:\n",
    "        continue\n",
    "\n",
    "    df = df.sort_values([\"to\", \"date\"])\n",
    "    df[\"change\"] = df.groupby(\"to\")[\"rate\"].diff().abs()\n",
    "\n",
    "    mean_volatility = df.groupby(\"to\")[\"change\"].mean().sort_values(ascending=False)\n",
    "    print(f\"Volatility for {currency}:\")\n",
    "    print(mean_volatility.head(3))\n",
    "    print()"
   ]
  },
  {
   "cell_type": "code",
   "execution_count": null,
   "id": "287c7a43",
   "metadata": {},
   "outputs": [],
   "source": []
  },
  {
   "cell_type": "code",
   "execution_count": null,
   "id": "6fc8150c",
   "metadata": {},
   "outputs": [],
   "source": []
  },
  {
   "cell_type": "markdown",
   "id": "96efa9e9",
   "metadata": {},
   "source": [
    "###Observations (Quest Book)\n",
    "\n",
    "1. Some currencies like JPY and CNY show smoother trends.\n",
    "2. Volatility increased around early 2020, possibly due to COVID-19.\n",
    "3. USD and EUR are among the most stable base currencies.\n",
    "4. Major economic events like Brexit in 2016 may show sharp spikes in GBP-related pairs.\n",
    "5. Exchange rates fluctuate more when base is from developing countries. "
   ]
  }
 ],
 "metadata": {
  "kernelspec": {
   "display_name": "Python 3",
   "language": "python",
   "name": "python3"
  },
  "language_info": {
   "codemirror_mode": {
    "name": "ipython",
    "version": 3
   },
   "file_extension": ".py",
   "mimetype": "text/x-python",
   "name": "python",
   "nbconvert_exporter": "python",
   "pygments_lexer": "ipython3",
   "version": "3.13.1"
  }
 },
 "nbformat": 4,
 "nbformat_minor": 5
}
