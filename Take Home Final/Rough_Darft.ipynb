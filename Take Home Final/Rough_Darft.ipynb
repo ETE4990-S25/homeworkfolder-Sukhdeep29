{
 "cells": [
  {
   "cell_type": "markdown",
   "id": "b7d3fbdf",
   "metadata": {},
   "source": [
    "Rough Draft for the take home final. "
   ]
  },
  {
   "cell_type": "code",
   "execution_count": null,
   "id": "38ea7021",
   "metadata": {},
   "outputs": [],
   "source": [
    "!pip install xmltodict"
   ]
  },
  {
   "cell_type": "code",
   "execution_count": null,
   "id": "0edfe8cb",
   "metadata": {},
   "outputs": [],
   "source": [
    "rates = [\"EUR\", \"GBP\", \"USD\", \"DZD\", \"AUD\", \"BWP\", \"BND\", \"CAD\", \"CLP\", \"CNY\", \"COP\", \"CZK\", \"DKK\", \"HUF\", \"ISK\", \"INR\", \"IDR\", \"ILS\", \"KZT\", \"KRW\", \"KWD\", \"LYD\", \"MYR\", \"MUR\", \"NPR\", \"NZD\", \"NOK\", \"OMR\", \"PKR\", \"PLN\", \"QAR\", \"RUB\", \"SAR\", \"SGD\", \"ZAR\", \"LKR\", \"SEK\", \"CHF\", \"THB\", \"TTD\"]\n",
    "ratesForBase = [r for r in rates if r != \"USD\" and r != \"EUR\" and r != \"GBP\"]"
   ]
  },
  {
   "cell_type": "markdown",
   "id": "30fb9852",
   "metadata": {},
   "source": [
    "Code Given by Professor Powers in the Prompt. "
   ]
  },
  {
   "cell_type": "code",
   "execution_count": null,
   "id": "3f63ccd2",
   "metadata": {},
   "outputs": [],
   "source": [
    "import requests\n",
    "import xmltodict\n",
    "import json\n",
    "import random\n",
    "\n",
    "# URL of the XML data\n",
    "date = \"2011-05-04\"\n",
    "base = random.choice(ratesForBase)\n",
    "url = f\"https://www.floatrates.com/historical-exchange-rates.html?operation=rates&pb_id=1775&page=historical&currency_date={date}&base_currency_code={base}&format_type=xml\"\n",
    "print(url)\n",
    "# Fetch the XML data\n",
    "response = requests.get(url)\n",
    "response.raise_for_status()  # Ensure we notice bad responses\n",
    "\n",
    "# Parse the XML data to a Python dictionary\n",
    "data_dict = xmltodict.parse(response.text)\n",
    "\n",
    "# Convert the dictionary to a JSON string\n",
    "json_data = json.dumps(data_dict, indent=4)\n",
    "\n",
    "# Print the JSON data\n",
    "print(json_data)\n",
    "\n",
    "# Optionally, write the JSON data to a file\n",
    "with open(f\"{date}_exchange_rates_{base}.json\", \"w\") as json_file:\n",
    "    json_file.write(json_data)"
   ]
  },
  {
   "cell_type": "code",
   "execution_count": null,
   "id": "83a0b355",
   "metadata": {},
   "outputs": [],
   "source": [
    "import os\n",
    "import requests \n",
    "import xmltodict\n",
    "import json\n",
    "import random\n",
    "from datetime import datetime, timedelta\n",
    "import threading\n",
    "import time\n",
    "\n",
    "rates = [\"EUR\", \"GBP\", \"USD\", \"DZD\", \"AUD\", \"BWP\", \"BND\", \"CAD\", \"CLP\", \"CNY\", \"COP\",\n",
    "         \"CZK\", \"DKK\", \"HUF\", \"ISK\", \"INR\", \"IDR\", \"ILS\", \"KZT\", \"KRW\", \"KWD\", \"LYD\",\n",
    "         \"MYR\", \"MUR\", \"NPR\", \"NZD\", \"NOK\", \"OMR\", \"PKR\", \"PLN\", \"QAR\", \"RUB\", \"SAR\",\n",
    "         \"SGD\", \"ZAR\", \"LKR\", \"SEK\", \"CHF\", \"THB\", \"TTD\"]\n",
    "\n",
    "rates_for_base = [r for r in rates if r not in [\"USD\", \"EUR\", \"GBP\"]]\n",
    "base = random.choice(rates_for_base)\n",
    "\n",
    "\n",
    "start = datetime(2011, 5, 4)\n",
    "end = datetime.today()\n",
    "dates = []\n",
    "while start <= end:\n",
    "    dates.append(start.strftime(\"%Y-%m-%d\"))\n",
    "    start += timedelta(days=1)\n",
    "\n",
    "folder = \"data_\" + base\n",
    "os.makedirs(folder, exist_ok=True)\n",
    "\n",
    "def download(date):\n",
    "    path = f\"{folder}/{date}.json\"\n",
    "    if os.path.exists(path):\n",
    "        return\n",
    "    url = f\"https://www.floatrates.com/historical-exchange-rates.html?operation=rates&pb_id=1775&page=historical&currency_date={date}&base_currency_code={base}&format_type=xml\"\n",
    "    try:\n",
    "        r = requests.get(url, timeout=10)\n",
    "        d = xmltodict.parse(r.text)\n",
    "        with open(path, \"w\") as f:\n",
    "            json.dump(d, f)\n",
    "        print(\"Saved\", date)\n",
    "    except:\n",
    "        print(\"Failed\", date)\n",
    "\n",
    "def run_all():\n",
    "    i = 0\n",
    "    while i < len(dates):\n",
    "        group = []\n",
    "        for j in range(10):\n",
    "            if i + j < len(dates):\n",
    "                t = threading.Thread(target=download, args=(dates[i + j],))\n",
    "                t.start()\n",
    "                group.append(t)\n",
    "        for t in group:\n",
    "            t.join()\n",
    "        i += 10\n",
    "\n",
    "print(\"Starting\", base)\n",
    "run_all()\n",
    "print(\"Done\")"
   ]
  }
 ],
 "metadata": {
  "kernelspec": {
   "display_name": "Python 3",
   "language": "python",
   "name": "python3"
  },
  "language_info": {
   "codemirror_mode": {
    "name": "ipython",
    "version": 3
   },
   "file_extension": ".py",
   "mimetype": "text/x-python",
   "name": "python",
   "nbconvert_exporter": "python",
   "pygments_lexer": "ipython3",
   "version": "3.13.1"
  }
 },
 "nbformat": 4,
 "nbformat_minor": 5
}
