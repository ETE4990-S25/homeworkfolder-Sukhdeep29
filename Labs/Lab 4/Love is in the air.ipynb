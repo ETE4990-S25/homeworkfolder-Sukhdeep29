{
 "cells": [
  {
   "cell_type": "code",
   "execution_count": null,
   "metadata": {},
   "outputs": [
    {
     "name": "stdout",
     "output_type": "stream",
     "text": [
      "Chosen Movie:\n",
      " \n",
      "Title: Ghost \n",
      "Year: 1990 \n",
      "Awards: 12\n"
     ]
    }
   ],
   "source": [
    "import json\n",
    "import random \n",
    "\n",
    "def dataset(Movies_data): \n",
    "    try:  ###Learned the function of try and except from the internet. \n",
    "        with open(Movies_data, \"r\") as file: \n",
    "            return json.load(file)\n",
    "    except Exception: ###With every try and except, there are different functions such as Exception or FileNotFoundError. \n",
    "        print(\"Error: The file was not found.\")\n",
    "        return None\n",
    "    \n",
    "def pick_movie(movies, no_of_awards, max_year): \n",
    "    matching_movies = []\n",
    "\n",
    "    for movie in movies:\n",
    "        awards= int(movie[\"Awards\"]) ###Since Awards and years in the dataset are a string, this will convert them to an interger. \n",
    "        year= int(movie[\"Year\"] )\n",
    "\n",
    "        if awards >= no_of_awards and year <= max_year: \n",
    "            matching_movies.append(movie)\n",
    "\n",
    "    if not matching_movies:\n",
    "        return None \n",
    "     \n",
    "    return random.choice(matching_movies)\n",
    "\n",
    "movies= dataset(\"Movies_data.json\")\n",
    "\n",
    "if movies== None:\n",
    "    exit()\n",
    "\n",
    "try:\n",
    "    no_of_awards= int(input(\"Enter the no. of awards from 3-100:\"))\n",
    "    max_year= int(input(\"Enter the latest release year from 1990-2018:\"))\n",
    "except Exception:\n",
    "    print(\"Error: Invalid input. Please try again.\")\n",
    "    exit()\n",
    "\n",
    "Chosen_movie= pick_movie(movies, no_of_awards, max_year)\n",
    "\n",
    "if Chosen_movie:\n",
    "    print(\"Chosen Movie:\\n\", \"\\nTitle:\", Chosen_movie[\"Title\"], \"\\nYear:\", Chosen_movie[\"Year\"], \"\\nAwards:\", Chosen_movie[\"Awards\"])\n",
    "\n",
    "else:\n",
    "    print(\"No movies found with your filter.\")\n",
    "\n"
   ]
  }
 ],
 "metadata": {
  "kernelspec": {
   "display_name": "Python 3",
   "language": "python",
   "name": "python3"
  },
  "language_info": {
   "codemirror_mode": {
    "name": "ipython",
    "version": 3
   },
   "file_extension": ".py",
   "mimetype": "text/x-python",
   "name": "python",
   "nbconvert_exporter": "python",
   "pygments_lexer": "ipython3",
   "version": "3.13.1"
  }
 },
 "nbformat": 4,
 "nbformat_minor": 2
}
