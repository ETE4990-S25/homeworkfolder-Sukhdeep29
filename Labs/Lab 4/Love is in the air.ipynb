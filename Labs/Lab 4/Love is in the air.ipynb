{
 "cells": [
  {
   "cell_type": "code",
   "execution_count": null,
   "metadata": {},
   "outputs": [],
   "source": [
    "import json\n",
    "import random \n",
    "\n",
    "def dataset(Movies_dataset):\n",
    "    try:\n",
    "        with open(Movies_dataset, \"r\") as file:\n",
    "            return json.load(file)\n",
    "    except File_not_found_error:\n",
    "        print(\"Error: The file was not found. Please check if 'Movies_dataset.json' is in the same folder\")\n",
    "        return None\n",
    "    \n",
    "def pick_movie(movies, min_rating, max_year):\n",
    "    matching_movies = []\n",
    "\n",
    "    for movie in movies:\n",
    "        if int(movie[\"Rating\"]) >= min_rating and int(movie[\"Year\"])<= max_year:\n",
    "            matching_movies.append(movie)\n",
    "\n",
    "if len(matching_movies)== 0:\n",
    "    return \"No Movies found with your filters.\"\n",
    "return random.choice(matching_movies)\n"
   ]
  }
 ],
 "metadata": {
  "language_info": {
   "name": "python"
  }
 },
 "nbformat": 4,
 "nbformat_minor": 2
}
