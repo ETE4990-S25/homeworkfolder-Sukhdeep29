{
 "cells": [
  {
   "cell_type": "code",
   "execution_count": 1,
   "id": "fda0a46a",
   "metadata": {},
   "outputs": [
    {
     "name": "stderr",
     "output_type": "stream",
     "text": [
      "CRITICAL: OMG THE WORLD IS ENDING!!!!\n",
      "CRITICAL: there is no more disk space\n",
      "ERROR: file not found creating new file\n",
      "WARNING: disk space is low\n",
      "INFO: user logged in with correct password\n",
      "my_logger CRITICAL: There is no more disk space\n",
      "my_logger ERROR: File not found creating new file\n",
      "my_logger WARNING: Disk space is low\n",
      "my_logger INFO: User logged in with correct password\n",
      "file_logger INFO: Logging to a file!\n",
      "file_logger WARNING: Watch out! Disk space might be low.\n"
     ]
    }
   ],
   "source": [
    "import logging\n",
    "\n",
    "logging.basicConfig(level=logging.DEBUG, format='%(levelname)s: %(message)s')\n",
    "\n",
    "# Name the logger \n",
    "debugLogger = logging.getLogger(\"my_logger\")\n",
    "\n",
    "debugLogger.log(logging.CRITICAL, \"OMG THE WORLD IS ENDING!!!!\")\n",
    "\n",
    "debugLogger.critical(\"there is no more disk space\")\n",
    "debugLogger.error(\"file not found creating new file\")\n",
    "debugLogger.warning(\"disk space is low\")\n",
    "debugLogger.info(\"user logged in with correct password\")\n",
    "logging.basicConfig(level=logging.INFO, format='%(name)s %(levelname)s: %(message)s',force=True)\n",
    "\n",
    "infoLogger = logging.getLogger(\"my_logger\")\n",
    "\n",
    "infoLogger.critical(\"There is no more disk space\")\n",
    "infoLogger.error(\"File not found creating new file\")\n",
    "infoLogger.warning(\"Disk space is low\")\n",
    "infoLogger.info(\"User logged in with correct password\")\n",
    "logger = logging.getLogger(\"file_logger\")\n",
    "logger.setLevel(logging.INFO)\n",
    "\n",
    "file_handler = logging.FileHandler(\"example_log.log\")\n",
    "file_handler.setFormatter(logging.Formatter('%(asctime)s - %(name)s - %(levelname)s - %(message)s'))\n",
    "\n",
    "logger.addHandler(file_handler)\n",
    "\n",
    "logger.info(\"Logging to a file!\")\n",
    "logger.warning(\"Watch out! Disk space might be low.\")"
   ]
  }
 ],
 "metadata": {
  "kernelspec": {
   "display_name": "Python 3",
   "language": "python",
   "name": "python3"
  },
  "language_info": {
   "codemirror_mode": {
    "name": "ipython",
    "version": 3
   },
   "file_extension": ".py",
   "mimetype": "text/x-python",
   "name": "python",
   "nbconvert_exporter": "python",
   "pygments_lexer": "ipython3",
   "version": "3.13.1"
  }
 },
 "nbformat": 4,
 "nbformat_minor": 5
}
