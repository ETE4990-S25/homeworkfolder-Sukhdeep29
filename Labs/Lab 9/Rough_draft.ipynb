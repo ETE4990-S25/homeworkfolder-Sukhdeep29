{
 "cells": [
  {
   "cell_type": "code",
   "execution_count": 1,
   "id": "ad68bbbb",
   "metadata": {},
   "outputs": [
    {
     "name": "stderr",
     "output_type": "stream",
     "text": [
      "2025-04-17 18:36:32 | my_app | INFO | App started successfully\n",
      "2025-04-17 18:36:32 | my_app | WARNING | Running in debug mode\n",
      "2025-04-17 18:36:32 | my_app | ERROR | Failed to load configuration file\n",
      "2025-04-17 18:36:32 | my_app.utils | INFO | Utility function executed\n",
      "2025-04-17 18:36:32 | my_app.utils | ERROR | Unhandled exception in utility module\n",
      "2025-04-17 18:36:32 | my_app.utils.db | CRITICAL | Disk failure detected\n",
      "2025-04-17 18:36:32 | my_app.utils.db | ERROR | Database connection timed out\n",
      "2025-04-17 18:36:32 | my_app.utils.db | INFO | Query exceuted in 12ms.\n"
     ]
    }
   ],
   "source": [
    "import logging\n",
    "\n",
    "logging.basicConfig(\n",
    "    level=logging.INFO,\n",
    "    format='%(asctime)s | %(name)s | %(levelname)s | %(message)s', \n",
    "    datefmt='%Y-%m-%d %H:%M:%S'\n",
    ")\n",
    "\n",
    "app_logger= logging.getLogger(\"my_app\")\n",
    "utils_logger = logging.getLogger(\"my_app.utils\")\n",
    "db_logger= logging.getLogger(\"my_app.utils.db\")\n",
    "\n",
    "app_logger.info(\"App started successfully\")\n",
    "app_logger.warning(\"Running in debug mode\")\n",
    "app_logger.error(\"Failed to load configuration file\")\n",
    "\n",
    "utils_logger.info(\"Utility function executed\")\n",
    "utils_logger.error(\"Unhandled exception in utility module\")\n",
    "\n",
    "\n",
    "db_logger.critical(\"Disk failure detected\")\n",
    "db_logger.error(\"Database connection timed out\")\n",
    "db_logger.info(\"Query exceuted in 12ms.\")\n",
    "\n"
   ]
  }
 ],
 "metadata": {
  "kernelspec": {
   "display_name": "Python 3",
   "language": "python",
   "name": "python3"
  },
  "language_info": {
   "codemirror_mode": {
    "name": "ipython",
    "version": 3
   },
   "file_extension": ".py",
   "mimetype": "text/x-python",
   "name": "python",
   "nbconvert_exporter": "python",
   "pygments_lexer": "ipython3",
   "version": "3.13.1"
  }
 },
 "nbformat": 4,
 "nbformat_minor": 5
}
