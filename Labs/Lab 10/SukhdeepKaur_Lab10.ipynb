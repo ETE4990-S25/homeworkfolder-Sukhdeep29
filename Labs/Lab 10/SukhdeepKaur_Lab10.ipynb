{
 "cells": [
  {
   "cell_type": "markdown",
   "metadata": {},
   "source": [
    "Lab 10 PART 1\n",
    "\n"
   ]
  },
  {
   "cell_type": "markdown",
   "metadata": {},
   "source": [
    "Sukhdeep Kaur"
   ]
  },
  {
   "cell_type": "code",
   "execution_count": 1,
   "metadata": {},
   "outputs": [
    {
     "name": "stdout",
     "output_type": "stream",
     "text": [
      "Docker version: 27.5.1\n"
     ]
    }
   ],
   "source": [
    "import docker\n",
    "\n",
    "client = docker.from_env()\n",
    "\n",
    "print(\"Docker version:\", client.version()['Version'])"
   ]
  },
  {
   "cell_type": "code",
   "execution_count": 2,
   "metadata": {},
   "outputs": [
    {
     "name": "stdout",
     "output_type": "stream",
     "text": [
      "adminer - running\n",
      "mysql - running\n"
     ]
    }
   ],
   "source": [
    "def list_running_containers():\n",
    "    containers = client.containers.list(all=True)# list all containers\n",
    "    #containers = client.containers.list() #list only running containers\n",
    "    for container in containers:\n",
    "        print(f\"{container.name} - {container.status}\")\n",
    "\n",
    "list_running_containers()"
   ]
  },
  {
   "cell_type": "code",
   "execution_count": 3,
   "metadata": {},
   "outputs": [
    {
     "name": "stdout",
     "output_type": "stream",
     "text": [
      "mysql in network 'yourNetwork' has IP: 172.18.0.2\n",
      "adminer in network 'yourNetwork' has IP: 172.18.0.3\n"
     ]
    }
   ],
   "source": [
    "def show_container_ip(container_name):\n",
    "    container = client.containers.get(container_name)\n",
    "    networks = container.attrs['NetworkSettings']['Networks']\n",
    "    \n",
    "    for net_name, net_data in networks.items():\n",
    "        print(f\"{container_name} in network '{net_name}' has IP: {net_data['IPAddress']}\")\n",
    "\n",
    "\n",
    "show_container_ip(\"mysql\")\n",
    "show_container_ip(\"adminer\")\n"
   ]
  },
  {
   "cell_type": "markdown",
   "metadata": {},
   "source": [
    "Lab 10 Part 2"
   ]
  },
  {
   "cell_type": "code",
   "execution_count": 4,
   "metadata": {},
   "outputs": [
    {
     "name": "stdout",
     "output_type": "stream",
     "text": [
      "adminer - running\n",
      "mysql - running\n",
      "adminer is already running.\n",
      "mysql is already running.\n"
     ]
    }
   ],
   "source": [
    "def reload_containers():\n",
    "    containers = client.containers.list(all=True)\n",
    "    if not containers:\n",
    "        print(\"No containers to reload.\")\n",
    "        return\n",
    "    \n",
    "    for container in containers:\n",
    "        container.reload()\n",
    "        \n",
    "        if container.status != 'running':\n",
    "            print(f\"Restarting {container.name}\")\n",
    "            try:\n",
    "                container.start()\n",
    "                print(f\"{container.name} restarted.\")\n",
    "            except ValueError:\n",
    "                print(f\"Failed to restart {container.name}\")\n",
    "        else:\n",
    "            print(f\"{container.name} is already running.\")\n",
    "\n",
    "list_running_containers()\n",
    "reload_containers()"
   ]
  },
  {
   "cell_type": "markdown",
   "metadata": {},
   "source": [
    "Second attempt to lab 10"
   ]
  },
  {
   "cell_type": "code",
   "execution_count": 5,
   "metadata": {},
   "outputs": [
    {
     "name": "stdout",
     "output_type": "stream",
     "text": [
      "Running containers:\n",
      "- adminer (running)\n",
      "- mysql (running)\n",
      "adminer is already running.\n",
      "mysql is already running.\n"
     ]
    }
   ],
   "source": [
    "def restart_containers():\n",
    "    containers= client.containers.list(all=True)\n",
    "    for container in containers:\n",
    "        container.reload()\n",
    "        if container.status != 'running':\n",
    "            print(f\"Restarting {container.name}\")\n",
    "            try:\n",
    "                container.start()\n",
    "                print(f\"{container.name} started successfully.\")\n",
    "            except ValueError:\n",
    "                print(f\"Failed to restart {container.name}\")\n",
    "        else:\n",
    "            print(f\"{container.name} is already running.\")\n",
    "            \n",
    "def list_running_containers():\n",
    "    containers=client.containers.list()\n",
    "    print(\"Running containers:\")\n",
    "    for container in containers:\n",
    "        print(f\"- {container.name} ({container.status})\")\n",
    "\n",
    "list_running_containers()\n",
    "restart_containers()\n"
   ]
  }
 ],
 "metadata": {
  "kernelspec": {
   "display_name": "Python 3",
   "language": "python",
   "name": "python3"
  },
  "language_info": {
   "codemirror_mode": {
    "name": "ipython",
    "version": 3
   },
   "file_extension": ".py",
   "mimetype": "text/x-python",
   "name": "python",
   "nbconvert_exporter": "python",
   "pygments_lexer": "ipython3",
   "version": "3.13.1"
  }
 },
 "nbformat": 4,
 "nbformat_minor": 5
}
