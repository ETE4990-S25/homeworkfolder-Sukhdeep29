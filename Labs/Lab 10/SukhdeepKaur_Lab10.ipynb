{
 "cells": [
  {
   "cell_type": "markdown",
   "metadata": {},
   "source": [
    "Lab 10 PART 1\n",
    "\n"
   ]
  },
  {
   "cell_type": "markdown",
   "metadata": {},
   "source": [
    "Sukhdeep Kaur"
   ]
  },
  {
   "cell_type": "code",
   "execution_count": 6,
   "metadata": {},
   "outputs": [
    {
     "name": "stdout",
     "output_type": "stream",
     "text": [
      "Docker version: 27.5.1\n"
     ]
    }
   ],
   "source": [
    "import docker\n",
    "\n",
    "client = docker.from_env()\n",
    "\n",
    "print(\"Docker version:\", client.version()['Version'])"
   ]
  },
  {
   "cell_type": "code",
   "execution_count": 7,
   "metadata": {},
   "outputs": [
    {
     "name": "stdout",
     "output_type": "stream",
     "text": [
      "adminer - running\n",
      "mysql - running\n"
     ]
    }
   ],
   "source": [
    "def list_running_containers():\n",
    "    containers = client.containers.list(all=True)# list all containers\n",
    "    #containers = client.containers.list() #list only running containers\n",
    "    for container in containers:\n",
    "        print(f\"{container.name} - {container.status}\")\n",
    "\n",
    "list_running_containers()"
   ]
  },
  {
   "cell_type": "code",
   "execution_count": 9,
   "metadata": {},
   "outputs": [
    {
     "name": "stdout",
     "output_type": "stream",
     "text": [
      "mysql in network 'yourNetwork' has IP: 172.18.0.2\n",
      "adminer in network 'yourNetwork' has IP: 172.18.0.3\n"
     ]
    }
   ],
   "source": [
    "def show_container_ip(container_name):\n",
    "    container = client.containers.get(container_name)\n",
    "    networks = container.attrs['NetworkSettings']['Networks']\n",
    "    \n",
    "    for net_name, net_data in networks.items():\n",
    "        print(f\"{container_name} in network '{net_name}' has IP: {net_data['IPAddress']}\")\n",
    "\n",
    "\n",
    "show_container_ip(\"mysql\")\n",
    "show_container_ip(\"adminer\")\n"
   ]
  },
  {
   "cell_type": "markdown",
   "metadata": {},
   "source": [
    "Lab 10 Part 2"
   ]
  },
  {
   "cell_type": "code",
   "execution_count": 16,
   "metadata": {},
   "outputs": [
    {
     "ename": "APIError",
     "evalue": "500 Server Error for http+docker://localnpipe/v1.47/containers/json?limit=-1&all=0&size=0&trunc_cmd=0: Internal Server Error",
     "output_type": "error",
     "traceback": [
      "\u001b[1;31m---------------------------------------------------------------------------\u001b[0m",
      "\u001b[1;31mHTTPError\u001b[0m                                 Traceback (most recent call last)",
      "File \u001b[1;32mc:\\Users\\esska\\AppData\\Local\\Programs\\Python\\Python313\\Lib\\site-packages\\docker\\api\\client.py:275\u001b[0m, in \u001b[0;36mAPIClient._raise_for_status\u001b[1;34m(self, response)\u001b[0m\n\u001b[0;32m    274\u001b[0m \u001b[38;5;28;01mtry\u001b[39;00m:\n\u001b[1;32m--> 275\u001b[0m     \u001b[43mresponse\u001b[49m\u001b[38;5;241;43m.\u001b[39;49m\u001b[43mraise_for_status\u001b[49m\u001b[43m(\u001b[49m\u001b[43m)\u001b[49m\n\u001b[0;32m    276\u001b[0m \u001b[38;5;28;01mexcept\u001b[39;00m requests\u001b[38;5;241m.\u001b[39mexceptions\u001b[38;5;241m.\u001b[39mHTTPError \u001b[38;5;28;01mas\u001b[39;00m e:\n",
      "File \u001b[1;32mc:\\Users\\esska\\AppData\\Local\\Programs\\Python\\Python313\\Lib\\site-packages\\requests\\models.py:1024\u001b[0m, in \u001b[0;36mResponse.raise_for_status\u001b[1;34m(self)\u001b[0m\n\u001b[0;32m   1023\u001b[0m \u001b[38;5;28;01mif\u001b[39;00m http_error_msg:\n\u001b[1;32m-> 1024\u001b[0m     \u001b[38;5;28;01mraise\u001b[39;00m HTTPError(http_error_msg, response\u001b[38;5;241m=\u001b[39m\u001b[38;5;28mself\u001b[39m)\n",
      "\u001b[1;31mHTTPError\u001b[0m: 500 Server Error: Internal Server Error for url: http+docker://localnpipe/v1.47/containers/json?limit=-1&all=0&size=0&trunc_cmd=0",
      "\nThe above exception was the direct cause of the following exception:\n",
      "\u001b[1;31mAPIError\u001b[0m                                  Traceback (most recent call last)",
      "Cell \u001b[1;32mIn[16], line 20\u001b[0m\n\u001b[0;32m     17\u001b[0m         \u001b[38;5;28;01melse\u001b[39;00m:\n\u001b[0;32m     18\u001b[0m             \u001b[38;5;28mprint\u001b[39m(\u001b[38;5;124mf\u001b[39m\u001b[38;5;124m\"\u001b[39m\u001b[38;5;132;01m{\u001b[39;00mcontainer\u001b[38;5;241m.\u001b[39mname\u001b[38;5;132;01m}\u001b[39;00m\u001b[38;5;124m is already running.\u001b[39m\u001b[38;5;124m\"\u001b[39m)\n\u001b[1;32m---> 20\u001b[0m \u001b[43mlist_running_containers\u001b[49m\u001b[43m(\u001b[49m\u001b[43m)\u001b[49m\n\u001b[0;32m     21\u001b[0m reload_containers()\n",
      "Cell \u001b[1;32mIn[12], line 16\u001b[0m, in \u001b[0;36mlist_running_containers\u001b[1;34m()\u001b[0m\n\u001b[0;32m     15\u001b[0m \u001b[38;5;28;01mdef\u001b[39;00m\u001b[38;5;250m \u001b[39m\u001b[38;5;21mlist_running_containers\u001b[39m():\n\u001b[1;32m---> 16\u001b[0m     containers\u001b[38;5;241m=\u001b[39m\u001b[43mclient\u001b[49m\u001b[38;5;241;43m.\u001b[39;49m\u001b[43mcontainers\u001b[49m\u001b[38;5;241;43m.\u001b[39;49m\u001b[43mlist\u001b[49m\u001b[43m(\u001b[49m\u001b[43m)\u001b[49m\n\u001b[0;32m     17\u001b[0m     \u001b[38;5;28mprint\u001b[39m(\u001b[38;5;124m\"\u001b[39m\u001b[38;5;124mRunning containers:\u001b[39m\u001b[38;5;124m\"\u001b[39m)\n\u001b[0;32m     18\u001b[0m     \u001b[38;5;28;01mfor\u001b[39;00m container \u001b[38;5;129;01min\u001b[39;00m containers:\n",
      "File \u001b[1;32mc:\\Users\\esska\\AppData\\Local\\Programs\\Python\\Python313\\Lib\\site-packages\\docker\\models\\containers.py:1009\u001b[0m, in \u001b[0;36mContainerCollection.list\u001b[1;34m(self, all, before, filters, limit, since, sparse, ignore_removed)\u001b[0m\n\u001b[0;32m    957\u001b[0m \u001b[38;5;28;01mdef\u001b[39;00m\u001b[38;5;250m \u001b[39m\u001b[38;5;21mlist\u001b[39m(\u001b[38;5;28mself\u001b[39m, \u001b[38;5;28mall\u001b[39m\u001b[38;5;241m=\u001b[39m\u001b[38;5;28;01mFalse\u001b[39;00m, before\u001b[38;5;241m=\u001b[39m\u001b[38;5;28;01mNone\u001b[39;00m, filters\u001b[38;5;241m=\u001b[39m\u001b[38;5;28;01mNone\u001b[39;00m, limit\u001b[38;5;241m=\u001b[39m\u001b[38;5;241m-\u001b[39m\u001b[38;5;241m1\u001b[39m, since\u001b[38;5;241m=\u001b[39m\u001b[38;5;28;01mNone\u001b[39;00m,\n\u001b[0;32m    958\u001b[0m          sparse\u001b[38;5;241m=\u001b[39m\u001b[38;5;28;01mFalse\u001b[39;00m, ignore_removed\u001b[38;5;241m=\u001b[39m\u001b[38;5;28;01mFalse\u001b[39;00m):\n\u001b[0;32m    959\u001b[0m \u001b[38;5;250m    \u001b[39m\u001b[38;5;124;03m\"\"\"\u001b[39;00m\n\u001b[0;32m    960\u001b[0m \u001b[38;5;124;03m    List containers. Similar to the ``docker ps`` command.\u001b[39;00m\n\u001b[0;32m    961\u001b[0m \n\u001b[1;32m   (...)\u001b[0m\n\u001b[0;32m   1007\u001b[0m \u001b[38;5;124;03m            If the server returns an error.\u001b[39;00m\n\u001b[0;32m   1008\u001b[0m \u001b[38;5;124;03m    \"\"\"\u001b[39;00m\n\u001b[1;32m-> 1009\u001b[0m     resp \u001b[38;5;241m=\u001b[39m \u001b[38;5;28;43mself\u001b[39;49m\u001b[38;5;241;43m.\u001b[39;49m\u001b[43mclient\u001b[49m\u001b[38;5;241;43m.\u001b[39;49m\u001b[43mapi\u001b[49m\u001b[38;5;241;43m.\u001b[39;49m\u001b[43mcontainers\u001b[49m\u001b[43m(\u001b[49m\u001b[38;5;28;43mall\u001b[39;49m\u001b[38;5;241;43m=\u001b[39;49m\u001b[38;5;28;43mall\u001b[39;49m\u001b[43m,\u001b[49m\u001b[43m \u001b[49m\u001b[43mbefore\u001b[49m\u001b[38;5;241;43m=\u001b[39;49m\u001b[43mbefore\u001b[49m\u001b[43m,\u001b[49m\n\u001b[0;32m   1010\u001b[0m \u001b[43m                                      \u001b[49m\u001b[43mfilters\u001b[49m\u001b[38;5;241;43m=\u001b[39;49m\u001b[43mfilters\u001b[49m\u001b[43m,\u001b[49m\u001b[43m \u001b[49m\u001b[43mlimit\u001b[49m\u001b[38;5;241;43m=\u001b[39;49m\u001b[43mlimit\u001b[49m\u001b[43m,\u001b[49m\n\u001b[0;32m   1011\u001b[0m \u001b[43m                                      \u001b[49m\u001b[43msince\u001b[49m\u001b[38;5;241;43m=\u001b[39;49m\u001b[43msince\u001b[49m\u001b[43m)\u001b[49m\n\u001b[0;32m   1012\u001b[0m     \u001b[38;5;28;01mif\u001b[39;00m sparse:\n\u001b[0;32m   1013\u001b[0m         \u001b[38;5;28;01mreturn\u001b[39;00m [\u001b[38;5;28mself\u001b[39m\u001b[38;5;241m.\u001b[39mprepare_model(r) \u001b[38;5;28;01mfor\u001b[39;00m r \u001b[38;5;129;01min\u001b[39;00m resp]\n",
      "File \u001b[1;32mc:\\Users\\esska\\AppData\\Local\\Programs\\Python\\Python313\\Lib\\site-packages\\docker\\api\\container.py:212\u001b[0m, in \u001b[0;36mContainerApiMixin.containers\u001b[1;34m(self, quiet, all, trunc, latest, since, before, limit, size, filters)\u001b[0m\n\u001b[0;32m    210\u001b[0m     params[\u001b[38;5;124m'\u001b[39m\u001b[38;5;124mfilters\u001b[39m\u001b[38;5;124m'\u001b[39m] \u001b[38;5;241m=\u001b[39m utils\u001b[38;5;241m.\u001b[39mconvert_filters(filters)\n\u001b[0;32m    211\u001b[0m u \u001b[38;5;241m=\u001b[39m \u001b[38;5;28mself\u001b[39m\u001b[38;5;241m.\u001b[39m_url(\u001b[38;5;124m\"\u001b[39m\u001b[38;5;124m/containers/json\u001b[39m\u001b[38;5;124m\"\u001b[39m)\n\u001b[1;32m--> 212\u001b[0m res \u001b[38;5;241m=\u001b[39m \u001b[38;5;28;43mself\u001b[39;49m\u001b[38;5;241;43m.\u001b[39;49m\u001b[43m_result\u001b[49m\u001b[43m(\u001b[49m\u001b[38;5;28;43mself\u001b[39;49m\u001b[38;5;241;43m.\u001b[39;49m\u001b[43m_get\u001b[49m\u001b[43m(\u001b[49m\u001b[43mu\u001b[49m\u001b[43m,\u001b[49m\u001b[43m \u001b[49m\u001b[43mparams\u001b[49m\u001b[38;5;241;43m=\u001b[39;49m\u001b[43mparams\u001b[49m\u001b[43m)\u001b[49m\u001b[43m,\u001b[49m\u001b[43m \u001b[49m\u001b[38;5;28;43;01mTrue\u001b[39;49;00m\u001b[43m)\u001b[49m\n\u001b[0;32m    214\u001b[0m \u001b[38;5;28;01mif\u001b[39;00m quiet:\n\u001b[0;32m    215\u001b[0m     \u001b[38;5;28;01mreturn\u001b[39;00m [{\u001b[38;5;124m'\u001b[39m\u001b[38;5;124mId\u001b[39m\u001b[38;5;124m'\u001b[39m: x[\u001b[38;5;124m'\u001b[39m\u001b[38;5;124mId\u001b[39m\u001b[38;5;124m'\u001b[39m]} \u001b[38;5;28;01mfor\u001b[39;00m x \u001b[38;5;129;01min\u001b[39;00m res]\n",
      "File \u001b[1;32mc:\\Users\\esska\\AppData\\Local\\Programs\\Python\\Python313\\Lib\\site-packages\\docker\\api\\client.py:281\u001b[0m, in \u001b[0;36mAPIClient._result\u001b[1;34m(self, response, json, binary)\u001b[0m\n\u001b[0;32m    279\u001b[0m \u001b[38;5;28;01mdef\u001b[39;00m\u001b[38;5;250m \u001b[39m\u001b[38;5;21m_result\u001b[39m(\u001b[38;5;28mself\u001b[39m, response, json\u001b[38;5;241m=\u001b[39m\u001b[38;5;28;01mFalse\u001b[39;00m, binary\u001b[38;5;241m=\u001b[39m\u001b[38;5;28;01mFalse\u001b[39;00m):\n\u001b[0;32m    280\u001b[0m     \u001b[38;5;28;01massert\u001b[39;00m \u001b[38;5;129;01mnot\u001b[39;00m (json \u001b[38;5;129;01mand\u001b[39;00m binary)\n\u001b[1;32m--> 281\u001b[0m     \u001b[38;5;28;43mself\u001b[39;49m\u001b[38;5;241;43m.\u001b[39;49m\u001b[43m_raise_for_status\u001b[49m\u001b[43m(\u001b[49m\u001b[43mresponse\u001b[49m\u001b[43m)\u001b[49m\n\u001b[0;32m    283\u001b[0m     \u001b[38;5;28;01mif\u001b[39;00m json:\n\u001b[0;32m    284\u001b[0m         \u001b[38;5;28;01mreturn\u001b[39;00m response\u001b[38;5;241m.\u001b[39mjson()\n",
      "File \u001b[1;32mc:\\Users\\esska\\AppData\\Local\\Programs\\Python\\Python313\\Lib\\site-packages\\docker\\api\\client.py:277\u001b[0m, in \u001b[0;36mAPIClient._raise_for_status\u001b[1;34m(self, response)\u001b[0m\n\u001b[0;32m    275\u001b[0m     response\u001b[38;5;241m.\u001b[39mraise_for_status()\n\u001b[0;32m    276\u001b[0m \u001b[38;5;28;01mexcept\u001b[39;00m requests\u001b[38;5;241m.\u001b[39mexceptions\u001b[38;5;241m.\u001b[39mHTTPError \u001b[38;5;28;01mas\u001b[39;00m e:\n\u001b[1;32m--> 277\u001b[0m     \u001b[38;5;28;01mraise\u001b[39;00m \u001b[43mcreate_api_error_from_http_exception\u001b[49m\u001b[43m(\u001b[49m\u001b[43me\u001b[49m\u001b[43m)\u001b[49m \u001b[38;5;28;01mfrom\u001b[39;00m\u001b[38;5;250m \u001b[39m\u001b[38;5;21;01me\u001b[39;00m\n",
      "File \u001b[1;32mc:\\Users\\esska\\AppData\\Local\\Programs\\Python\\Python313\\Lib\\site-packages\\docker\\errors.py:39\u001b[0m, in \u001b[0;36mcreate_api_error_from_http_exception\u001b[1;34m(e)\u001b[0m\n\u001b[0;32m     37\u001b[0m     \u001b[38;5;28;01melse\u001b[39;00m:\n\u001b[0;32m     38\u001b[0m         \u001b[38;5;28mcls\u001b[39m \u001b[38;5;241m=\u001b[39m NotFound\n\u001b[1;32m---> 39\u001b[0m \u001b[38;5;28;01mraise\u001b[39;00m \u001b[38;5;28mcls\u001b[39m(e, response\u001b[38;5;241m=\u001b[39mresponse, explanation\u001b[38;5;241m=\u001b[39mexplanation) \u001b[38;5;28;01mfrom\u001b[39;00m\u001b[38;5;250m \u001b[39m\u001b[38;5;21;01me\u001b[39;00m\n",
      "\u001b[1;31mAPIError\u001b[0m: 500 Server Error for http+docker://localnpipe/v1.47/containers/json?limit=-1&all=0&size=0&trunc_cmd=0: Internal Server Error"
     ]
    }
   ],
   "source": [
    "def reload_containers():\n",
    "    containers = client.containers.list(all=True)\n",
    "    if not containers:\n",
    "        print(\"No containers to reload.\")\n",
    "        return\n",
    "    \n",
    "    for container in containers:\n",
    "        container.reload()\n",
    "        \n",
    "        if container.status != 'running':\n",
    "            print(f\"Restarting {container.name}\")\n",
    "            try:\n",
    "                container.start()\n",
    "                print(f\"{container.name} restarted.\")\n",
    "            except ValueError:\n",
    "                print(f\"Failed to restart {container.name}\")\n",
    "        else:\n",
    "            print(f\"{container.name} is already running.\")\n",
    "\n",
    "list_running_containers()\n",
    "reload_containers()"
   ]
  },
  {
   "cell_type": "markdown",
   "metadata": {},
   "source": []
  },
  {
   "cell_type": "code",
   "execution_count": 12,
   "metadata": {},
   "outputs": [
    {
     "name": "stdout",
     "output_type": "stream",
     "text": [
      "Running containers:\n",
      "- adminer (running)\n",
      "- mysql (running)\n",
      "adminer is already running.\n",
      "mysql is already running.\n"
     ]
    }
   ],
   "source": [
    "def restart_containers():\n",
    "    containers= client.containers.list(all=True)\n",
    "    for container in containers:\n",
    "        container.reload()\n",
    "        if container.status != 'running':\n",
    "            print(f\"Restarting {container.name}\")\n",
    "            try:\n",
    "                container.start()\n",
    "                print(f\"{container.name} started successfully.\")\n",
    "            except ValueError:\n",
    "                print(f\"Failed to restart {container.name}\")\n",
    "        else:\n",
    "            print(f\"{container.name} is already running.\")\n",
    "            \n",
    "def list_running_containers():\n",
    "    containers=client.containers.list()\n",
    "    print(\"Running containers:\")\n",
    "    for container in containers:\n",
    "        print(f\"- {container.name} ({container.status})\")\n",
    "\n",
    "list_running_containers()\n",
    "restart_containers()\n"
   ]
  }
 ],
 "metadata": {
  "kernelspec": {
   "display_name": "Python 3",
   "language": "python",
   "name": "python3"
  },
  "language_info": {
   "codemirror_mode": {
    "name": "ipython",
    "version": 3
   },
   "file_extension": ".py",
   "mimetype": "text/x-python",
   "name": "python",
   "nbconvert_exporter": "python",
   "pygments_lexer": "ipython3",
   "version": "3.13.1"
  }
 },
 "nbformat": 4,
 "nbformat_minor": 5
}
