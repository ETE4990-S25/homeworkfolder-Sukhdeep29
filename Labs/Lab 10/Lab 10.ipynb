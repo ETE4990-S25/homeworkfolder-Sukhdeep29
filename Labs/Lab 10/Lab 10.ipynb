{
 "cells": [
  {
   "cell_type": "code",
   "execution_count": 25,
   "id": "f172fd59",
   "metadata": {},
   "outputs": [
    {
     "name": "stdout",
     "output_type": "stream",
     "text": [
      "ca52a1b463fbae692ec48efa24c14ef1b26ffcf9b400a0974b061879c27db80e\n"
     ]
    }
   ],
   "source": [
    "!docker run -d --name nginx --network=none -p 81:81 nginx\n"
   ]
  },
  {
   "cell_type": "code",
   "execution_count": 26,
   "id": "d3f0a8d6",
   "metadata": {},
   "outputs": [
    {
     "name": "stderr",
     "output_type": "stream",
     "text": [
      "Error response from daemon: No such container: nginx2\n"
     ]
    }
   ],
   "source": [
    "!docker exec -it nginx2 /bin/sh -c \"curl google.com\""
   ]
  },
  {
   "cell_type": "code",
   "execution_count": 27,
   "id": "6b879e86",
   "metadata": {},
   "outputs": [
    {
     "name": "stderr",
     "output_type": "stream",
     "text": [
      "\n",
      "Usage:  docker network COMMAND\n",
      "\n",
      "Manage networks\n",
      "\n",
      "Commands:\n",
      "  connect     Connect a container to a network\n",
      "  create      Create a network\n",
      "  disconnect  Disconnect a container from a network\n",
      "  inspect     Display detailed information on one or more networks\n",
      "  ls          List networks\n",
      "  prune       Remove all unused networks\n",
      "  rm          Remove one or more networks\n",
      "\n",
      "Run 'docker network COMMAND --help' for more information on a command.\n"
     ]
    }
   ],
   "source": [
    "!docker network"
   ]
  },
  {
   "cell_type": "code",
   "execution_count": 28,
   "id": "5221802e",
   "metadata": {},
   "outputs": [
    {
     "name": "stdout",
     "output_type": "stream",
     "text": [
      "NETWORK ID     NAME          DRIVER    SCOPE\n",
      "266ec01e86ea   bridge        bridge    local\n",
      "54411b948e85   host          host      local\n",
      "4778c89a25b2   none          null      local\n",
      "eddfab0229a8   yourNetwork   bridge    local\n"
     ]
    }
   ],
   "source": [
    "\n",
    "!docker network ls \n"
   ]
  },
  {
   "cell_type": "code",
   "execution_count": 29,
   "id": "a270c3d7",
   "metadata": {},
   "outputs": [
    {
     "name": "stdout",
     "output_type": "stream",
     "text": [
      "[\n",
      "    {\n",
      "        \"Name\": \"none\",\n",
      "        \"Id\": \"4778c89a25b200f8e9d3abe5c86481968e7f15d0d828536d1bf574084ad752a3\",\n",
      "        \"Created\": \"2025-03-15T03:21:00.220417292Z\",\n",
      "        \"Scope\": \"local\",\n",
      "        \"Driver\": \"null\",\n",
      "        \"EnableIPv6\": false,\n",
      "        \"IPAM\": {\n",
      "            \"Driver\": \"default\",\n",
      "            \"Options\": null,\n",
      "            \"Config\": null\n",
      "        },\n",
      "        \"Internal\": false,\n",
      "        \"Attachable\": false,\n",
      "        \"Ingress\": false,\n",
      "        \"ConfigFrom\": {\n",
      "            \"Network\": \"\"\n",
      "        },\n",
      "        \"ConfigOnly\": false,\n",
      "        \"Containers\": {\n",
      "            \"ca52a1b463fbae692ec48efa24c14ef1b26ffcf9b400a0974b061879c27db80e\": {\n",
      "                \"Name\": \"nginx\",\n",
      "                \"EndpointID\": \"62f3e61f9015f1afe7a3c61c62788508841866608cda72bbb7b66ffe57df3c91\",\n",
      "                \"MacAddress\": \"\",\n",
      "                \"IPv4Address\": \"\",\n",
      "                \"IPv6Address\": \"\"\n",
      "            }\n",
      "        },\n",
      "        \"Options\": {},\n",
      "        \"Labels\": {}\n",
      "    }\n",
      "]\n"
     ]
    }
   ],
   "source": [
    "!docker network inspect none"
   ]
  },
  {
   "cell_type": "code",
   "execution_count": 30,
   "id": "08ba5567",
   "metadata": {},
   "outputs": [
    {
     "name": "stdout",
     "output_type": "stream",
     "text": [
      "Requirement already satisfied: docker in c:\\users\\esska\\appdata\\local\\programs\\python\\python313\\lib\\site-packages (7.1.0)\n",
      "Requirement already satisfied: pywin32>=304 in c:\\users\\esska\\appdata\\local\\programs\\python\\python313\\lib\\site-packages (from docker) (308)\n",
      "Requirement already satisfied: requests>=2.26.0 in c:\\users\\esska\\appdata\\local\\programs\\python\\python313\\lib\\site-packages (from docker) (2.32.3)\n",
      "Requirement already satisfied: urllib3>=1.26.0 in c:\\users\\esska\\appdata\\local\\programs\\python\\python313\\lib\\site-packages (from docker) (2.3.0)\n",
      "Requirement already satisfied: charset-normalizer<4,>=2 in c:\\users\\esska\\appdata\\local\\programs\\python\\python313\\lib\\site-packages (from requests>=2.26.0->docker) (3.4.1)\n",
      "Requirement already satisfied: idna<4,>=2.5 in c:\\users\\esska\\appdata\\local\\programs\\python\\python313\\lib\\site-packages (from requests>=2.26.0->docker) (3.10)\n",
      "Requirement already satisfied: certifi>=2017.4.17 in c:\\users\\esska\\appdata\\local\\programs\\python\\python313\\lib\\site-packages (from requests>=2.26.0->docker) (2024.12.14)\n"
     ]
    },
    {
     "name": "stderr",
     "output_type": "stream",
     "text": [
      "\n",
      "[notice] A new release of pip is available: 24.3.1 -> 25.0.1\n",
      "[notice] To update, run: python.exe -m pip install --upgrade pip\n"
     ]
    }
   ],
   "source": [
    "!pip install docker"
   ]
  },
  {
   "cell_type": "code",
   "execution_count": 31,
   "id": "19efebd5",
   "metadata": {},
   "outputs": [
    {
     "name": "stdout",
     "output_type": "stream",
     "text": [
      "Docker version: 27.5.1\n"
     ]
    }
   ],
   "source": [
    "import docker\n",
    "\n",
    "client = docker.from_env()\n",
    "\n",
    "print(\"Docker version:\", client.version()['Version'])"
   ]
  },
  {
   "cell_type": "code",
   "execution_count": 32,
   "id": "8c8dcdca",
   "metadata": {},
   "outputs": [
    {
     "name": "stdout",
     "output_type": "stream",
     "text": [
      "nginx - running\n"
     ]
    }
   ],
   "source": [
    "def list_running_containers():\n",
    "    containers = client.containers.list(all=True)# list all containers\n",
    "    #containers = client.containers.list() #list only running containers\n",
    "    for container in containers:\n",
    "        print(f\"{container.name} - {container.status}\")\n",
    "\n",
    "list_running_containers()"
   ]
  },
  {
   "cell_type": "code",
   "execution_count": 33,
   "id": "fec31228",
   "metadata": {},
   "outputs": [
    {
     "name": "stdout",
     "output_type": "stream",
     "text": [
      "nginx in network 'none' has IP: \n"
     ]
    }
   ],
   "source": [
    "\n",
    "#lest identify the network of the nginx container\n",
    "def show_container_ip(container_name):\n",
    "    container = client.containers.get(container_name)\n",
    "    networks = container.attrs['NetworkSettings']['Networks']\n",
    "    \n",
    "    for net_name, net_data in networks.items():\n",
    "        print(f\"{container_name} in network '{net_name}' has IP: {net_data['IPAddress']}\")\n",
    "\n",
    "\n",
    "show_container_ip(\"nginx\")\n",
    "\n"
   ]
  },
  {
   "cell_type": "code",
   "execution_count": 34,
   "id": "4f41c8a1",
   "metadata": {},
   "outputs": [
    {
     "name": "stdout",
     "output_type": "stream",
     "text": [
      "7b69419b7d63b6276f36999f784e056ec2a3fc8c259aa5c53a208c52ce47d3f7\n"
     ]
    }
   ],
   "source": [
    "#setup another container for mysql\n",
    "!docker run -d --name mysql -p 3306:3306 -e MYSQL_ROOT_PASSWORD=1 mysql:8\n",
    "#Note the -d means detached mode so no container is using created just the MySQL database "
   ]
  },
  {
   "cell_type": "code",
   "execution_count": 35,
   "id": "12033917",
   "metadata": {},
   "outputs": [
    {
     "name": "stdout",
     "output_type": "stream",
     "text": [
      "4b4c36c079d7189865d77dd00895956807c2e47cc466ce7010f1b1e87dc8c12f\n"
     ]
    }
   ],
   "source": [
    "!docker run -d --name adminer -p 8080:8080 adminer"
   ]
  },
  {
   "cell_type": "code",
   "execution_count": 36,
   "id": "3c1a9301",
   "metadata": {},
   "outputs": [
    {
     "name": "stdout",
     "output_type": "stream",
     "text": [
      "------------------------------\n",
      "mysql in network 'bridge' has IP: 172.17.0.2\n"
     ]
    },
    {
     "name": "stderr",
     "output_type": "stream",
     "text": [
      "'grep' is not recognized as an internal or external command,\n",
      "operable program or batch file.\n"
     ]
    }
   ],
   "source": [
    "!docker inspect mysql | grep -n1 \"IPAddress\\\":\"\n",
    "# or\n",
    "print(\"-\"*30)\n",
    "show_container_ip(\"mysql\")"
   ]
  },
  {
   "cell_type": "code",
   "execution_count": 37,
   "id": "d8c0dce1",
   "metadata": {},
   "outputs": [
    {
     "name": "stdout",
     "output_type": "stream",
     "text": [
      "------------------------------\n",
      "adminer in network 'bridge' has IP: 172.17.0.3\n"
     ]
    },
    {
     "name": "stderr",
     "output_type": "stream",
     "text": [
      "'grep' is not recognized as an internal or external command,\n",
      "operable program or batch file.\n"
     ]
    }
   ],
   "source": [
    "!docker inspect adminer| grep  -n1 \"IPAddress\\\":\"\n",
    "# or\n",
    "print(\"-\"*30)\n",
    "show_container_ip(\"adminer\")"
   ]
  },
  {
   "cell_type": "code",
   "execution_count": 38,
   "id": "1e213962",
   "metadata": {},
   "outputs": [
    {
     "name": "stdout",
     "output_type": "stream",
     "text": [
      "adminer - running\n",
      "mysql - running\n",
      "nginx - running\n",
      "Removing adminer\n",
      "Removing mysql\n",
      "Removing nginx\n"
     ]
    }
   ],
   "source": [
    "def clean_containers():\n",
    "    containers = client.containers.list(all=True)\n",
    "    if not containers:\n",
    "        print(\"No containers to clean.\")\n",
    "        return\n",
    "    \n",
    "    for container in containers:\n",
    "        container.stop()\n",
    "        container.reload()\n",
    "        if container.status == 'exited':\n",
    "            print(f\"Removing {container.name}\")\n",
    "            container.remove()\n",
    "\n",
    "list_running_containers()\n",
    "\n",
    "clean_containers()"
   ]
  },
  {
   "cell_type": "code",
   "execution_count": 39,
   "id": "d84fa29a",
   "metadata": {},
   "outputs": [
    {
     "name": "stderr",
     "output_type": "stream",
     "text": [
      "Error response from daemon: network with name yourNetwork already exists\n"
     ]
    }
   ],
   "source": [
    "# Create a network called yourNetwork using the following command\n",
    "\n",
    "!docker network create yourNetwork"
   ]
  },
  {
   "cell_type": "code",
   "execution_count": 40,
   "id": "459f528e",
   "metadata": {},
   "outputs": [
    {
     "name": "stdout",
     "output_type": "stream",
     "text": [
      "[\n",
      "    {\n",
      "        \"Name\": \"yourNetwork\",\n",
      "        \"Id\": \"eddfab0229a82a9ae919281b1bc6de0e3ecee705a11968b8744a34f4575330a8\",\n",
      "        \"Created\": \"2025-04-19T04:14:53.827988627Z\",\n",
      "        \"Scope\": \"local\",\n",
      "        \"Driver\": \"bridge\",\n",
      "        \"EnableIPv6\": false,\n",
      "        \"IPAM\": {\n",
      "            \"Driver\": \"default\",\n",
      "            \"Options\": {},\n",
      "            \"Config\": [\n",
      "                {\n",
      "                    \"Subnet\": \"172.18.0.0/16\",\n",
      "                    \"Gateway\": \"172.18.0.1\"\n",
      "                }\n",
      "            ]\n",
      "        },\n",
      "        \"Internal\": false,\n",
      "        \"Attachable\": false,\n",
      "        \"Ingress\": false,\n",
      "        \"ConfigFrom\": {\n",
      "            \"Network\": \"\"\n",
      "        },\n",
      "        \"ConfigOnly\": false,\n",
      "        \"Containers\": {},\n",
      "        \"Options\": {},\n",
      "        \"Labels\": {}\n",
      "    }\n",
      "]\n"
     ]
    }
   ],
   "source": [
    "\n",
    "\n",
    "!docker network inspect yourNetwork\n",
    "\n"
   ]
  },
  {
   "cell_type": "code",
   "execution_count": 41,
   "metadata": {},
   "outputs": [
    {
     "name": "stdout",
     "output_type": "stream",
     "text": [
      "8f958985d38729507b3a0024338b7907e0d8568c85f58aeca81a564aa38fef1a\n"
     ]
    }
   ],
   "source": [
    "!docker run -d --network yourNetwork --name mysql -p 3306:3306 -e MYSQL_ROOT_PASSWORD=1 mysql:8"
   ]
  },
  {
   "cell_type": "code",
   "execution_count": 42,
   "metadata": {},
   "outputs": [
    {
     "name": "stdout",
     "output_type": "stream",
     "text": [
      "4fbf1e7cd0fba60d44e94cef3774895825433b504e5bf4cfe5bf02d0cc4caef7\n"
     ]
    }
   ],
   "source": [
    "!docker run -d --network yourNetwork --name adminer -p 8080:8080 adminer"
   ]
  },
  {
   "cell_type": "code",
   "execution_count": 43,
   "metadata": {},
   "outputs": [
    {
     "name": "stderr",
     "output_type": "stream",
     "text": [
      "Error response from daemon: endpoint with name adminer already exists in network yourNetwork\n"
     ]
    }
   ],
   "source": [
    "#Now lets connect the adminer\n",
    "!docker network connect yourNetwork adminer"
   ]
  },
  {
   "cell_type": "code",
   "execution_count": 44,
   "metadata": {},
   "outputs": [
    {
     "name": "stderr",
     "output_type": "stream",
     "text": [
      "'grep' is not recognized as an internal or external command,\n",
      "operable program or batch file.\n"
     ]
    },
    {
     "name": "stdout",
     "output_type": "stream",
     "text": [
      "------------------------------\n",
      "mysql in network 'yourNetwork' has IP: 172.18.0.2\n"
     ]
    },
    {
     "name": "stderr",
     "output_type": "stream",
     "text": [
      "'grep' is not recognized as an internal or external command,\n",
      "operable program or batch file.\n"
     ]
    }
   ],
   "source": [
    "!docker inspect mysql |grep -C2 \" \\\"Networks\\\"\"\n",
    "!docker inspect mysql |grep -A9 \" \\\"Networks\\\"\"| grep \" \\\"IPAddress\\\"\"\n",
    "#or\n",
    "print(\"-\"*30)\n",
    "show_container_ip(\"mysql\")"
   ]
  },
  {
   "cell_type": "code",
   "execution_count": 45,
   "metadata": {},
   "outputs": [
    {
     "name": "stderr",
     "output_type": "stream",
     "text": [
      "'grep' is not recognized as an internal or external command,\n",
      "operable program or batch file.\n",
      "'grep' is not recognized as an internal or external command,\n",
      "operable program or batch file.\n"
     ]
    },
    {
     "name": "stdout",
     "output_type": "stream",
     "text": [
      "Access denied. Option -c requires administrative privileges.------------------------------\n",
      "\n",
      "adminer in network 'yourNetwork' has IP: 172.18.0.3\n"
     ]
    }
   ],
   "source": [
    "!docker inspect adminer| grep -A2 \" \\\"Networks\\\"\"\n",
    "!docker inspect adminer| grep -A9 \" \\\"Networks\\\"\"| grep \" \\\"IPAddress\\\"\"\n",
    "!ping -c 1 172.18.0.3\n",
    "#or\n",
    "print(\"-\"*30)\n",
    "show_container_ip(\"adminer\")"
   ]
  },
  {
   "cell_type": "code",
   "execution_count": null,
   "metadata": {},
   "outputs": [],
   "source": []
  }
 ],
 "metadata": {
  "kernelspec": {
   "display_name": "Python 3",
   "language": "python",
   "name": "python3"
  },
  "language_info": {
   "codemirror_mode": {
    "name": "ipython",
    "version": 3
   },
   "file_extension": ".py",
   "mimetype": "text/x-python",
   "name": "python",
   "nbconvert_exporter": "python",
   "pygments_lexer": "ipython3",
   "version": "3.13.1"
  }
 },
 "nbformat": 4,
 "nbformat_minor": 5
}
