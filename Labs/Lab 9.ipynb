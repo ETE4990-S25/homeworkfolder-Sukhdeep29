{
 "cells": [
  {
   "cell_type": "code",
   "execution_count": 1,
   "id": "8588a53b",
   "metadata": {},
   "outputs": [],
   "source": [
    "import logging\n",
    "\n",
    "logging.basicConfig() # Basic Config is output to the terminal at warning and above\n",
    "\n",
    "# Name the logger\n",
    "defautLogger = logging.getLogger(\"defautLogger\")\n",
    "defautLogger.info(\"this is a basic info log\")"
   ]
  },
  {
   "cell_type": "code",
   "execution_count": 2,
   "id": "69ed93a8",
   "metadata": {},
   "outputs": [
    {
     "name": "stderr",
     "output_type": "stream",
     "text": [
      "CRITICAL:defautLogger:OMG THE WORLD IS ENDING!!!!\n",
      "CRITICAL:defautLogger:there is no more disk space\n",
      "ERROR:defautLogger:file not found creating new file\n",
      "WARNING:defautLogger:disk space is low\n"
     ]
    }
   ],
   "source": [
    "defautLogger.log(logging.CRITICAL, \"OMG THE WORLD IS ENDING!!!!\")\n",
    "\n",
    "defautLogger.critical(\"there is no more disk space\")\n",
    "defautLogger.error(\"file not found creating new file\")\n",
    "defautLogger.warning(\"disk space is low\")\n",
    "defautLogger.info(\"user logged in with correct password\")\n"
   ]
  },
  {
   "cell_type": "code",
   "execution_count": 3,
   "id": "66876680",
   "metadata": {},
   "outputs": [
    {
     "name": "stderr",
     "output_type": "stream",
     "text": [
      "CRITICAL:my_logger:OMG THE WORLD IS ENDING!!!!\n",
      "CRITICAL:my_logger:there is no more disk space\n",
      "ERROR:my_logger:file not found creating new file\n",
      "WARNING:my_logger:disk space is low\n"
     ]
    }
   ],
   "source": [
    "import logging\n",
    "\n",
    "logging.basicConfig(level=logging.DEBUG, format='%(levelname)s: %(message)s')\n",
    "\n",
    "# Name the logger \n",
    "debugLogger = logging.getLogger(\"my_logger\")\n",
    "\n",
    "debugLogger.log(logging.CRITICAL, \"OMG THE WORLD IS ENDING!!!!\")\n",
    "\n",
    "debugLogger.critical(\"there is no more disk space\")\n",
    "debugLogger.error(\"file not found creating new file\")\n",
    "debugLogger.warning(\"disk space is low\")\n",
    "debugLogger.info(\"user logged in with correct password\")"
   ]
  },
  {
   "cell_type": "code",
   "execution_count": 4,
   "id": "9e81d9a8",
   "metadata": {},
   "outputs": [
    {
     "name": "stderr",
     "output_type": "stream",
     "text": [
      "my_logger CRITICAL: There is no more disk space\n",
      "my_logger ERROR: File not found creating new file\n",
      "my_logger WARNING: Disk space is low\n",
      "my_logger INFO: User logged in with correct password\n"
     ]
    }
   ],
   "source": [
    "logging.basicConfig(level=logging.INFO, format='%(name)s %(levelname)s: %(message)s',force=True)\n",
    "\n",
    "infoLogger = logging.getLogger(\"my_logger\")\n",
    "\n",
    "infoLogger.critical(\"There is no more disk space\")\n",
    "infoLogger.error(\"File not found creating new file\")\n",
    "infoLogger.warning(\"Disk space is low\")\n",
    "infoLogger.info(\"User logged in with correct password\")"
   ]
  },
  {
   "cell_type": "code",
   "execution_count": 5,
   "id": "44909c5c",
   "metadata": {},
   "outputs": [
    {
     "name": "stderr",
     "output_type": "stream",
     "text": [
      "file_logger INFO: Logging to a file!\n",
      "file_logger WARNING: Watch out! Disk space might be low.\n"
     ]
    }
   ],
   "source": [
    "logger = logging.getLogger(\"file_logger\")\n",
    "logger.setLevel(logging.INFO)\n",
    "\n",
    "file_handler = logging.FileHandler(\"example_log.log\")\n",
    "file_handler.setFormatter(logging.Formatter('%(asctime)s - %(name)s - %(levelname)s - %(message)s'))\n",
    "\n",
    "logger.addHandler(file_handler)\n",
    "\n",
    "logger.info(\"Logging to a file!\")\n",
    "logger.warning(\"Watch out! Disk space might be low.\")\n"
   ]
  },
  {
   "cell_type": "code",
   "execution_count": null,
   "id": "e1ba3dab",
   "metadata": {},
   "outputs": [],
   "source": [
    "logs = {\n",
    "    \"sqldb\": [\n",
    "        \"[INFO] Database connection established\",\n",
    "        \"[ERROR] Database corruption detected.\"\n",
    "    ],\n",
    "    \n",
    "}"
   ]
  },
  {
   "cell_type": "code",
   "execution_count": 1,
   "id": "22cf31b7",
   "metadata": {},
   "outputs": [
    {
     "name": "stdout",
     "output_type": "stream",
     "text": [
      "Collecting matplot\n",
      "  Downloading matplot-0.1.9-py2.py3-none-any.whl.metadata (241 bytes)\n",
      "Collecting pyloco>=0.0.134 (from matplot)\n",
      "  Downloading pyloco-0.0.139-py2.py3-none-any.whl.metadata (1.1 kB)\n",
      "Collecting matplotlib>=3.1.1 (from matplot)\n",
      "  Downloading matplotlib-3.10.1-cp313-cp313-win_amd64.whl.metadata (11 kB)\n",
      "Collecting contourpy>=1.0.1 (from matplotlib>=3.1.1->matplot)\n",
      "  Downloading contourpy-1.3.2-cp313-cp313-win_amd64.whl.metadata (5.5 kB)\n",
      "Collecting cycler>=0.10 (from matplotlib>=3.1.1->matplot)\n",
      "  Downloading cycler-0.12.1-py3-none-any.whl.metadata (3.8 kB)\n",
      "Collecting fonttools>=4.22.0 (from matplotlib>=3.1.1->matplot)\n",
      "  Downloading fonttools-4.57.0-cp313-cp313-win_amd64.whl.metadata (104 kB)\n",
      "Collecting kiwisolver>=1.3.1 (from matplotlib>=3.1.1->matplot)\n",
      "  Downloading kiwisolver-1.4.8-cp313-cp313-win_amd64.whl.metadata (6.3 kB)\n",
      "Requirement already satisfied: numpy>=1.23 in c:\\users\\esska\\appdata\\local\\programs\\python\\python313\\lib\\site-packages (from matplotlib>=3.1.1->matplot) (2.2.3)\n",
      "Requirement already satisfied: packaging>=20.0 in c:\\users\\esska\\appdata\\local\\programs\\python\\python313\\lib\\site-packages (from matplotlib>=3.1.1->matplot) (24.2)\n",
      "Collecting pillow>=8 (from matplotlib>=3.1.1->matplot)\n",
      "  Downloading pillow-11.2.1-cp313-cp313-win_amd64.whl.metadata (9.1 kB)\n",
      "Collecting pyparsing>=2.3.1 (from matplotlib>=3.1.1->matplot)\n",
      "  Downloading pyparsing-3.2.3-py3-none-any.whl.metadata (5.0 kB)\n",
      "Requirement already satisfied: python-dateutil>=2.7 in c:\\users\\esska\\appdata\\local\\programs\\python\\python313\\lib\\site-packages (from matplotlib>=3.1.1->matplot) (2.9.0.post0)\n",
      "Collecting ushlex (from pyloco>=0.0.134->matplot)\n",
      "  Downloading ushlex-0.99.1.tar.gz (4.7 kB)\n",
      "  Installing build dependencies: started\n",
      "  Installing build dependencies: finished with status 'done'\n",
      "  Getting requirements to build wheel: started\n",
      "  Getting requirements to build wheel: finished with status 'done'\n",
      "  Preparing metadata (pyproject.toml): started\n",
      "  Preparing metadata (pyproject.toml): finished with status 'done'\n",
      "Requirement already satisfied: websocket-client in c:\\users\\esska\\appdata\\local\\programs\\python\\python313\\lib\\site-packages (from pyloco>=0.0.134->matplot) (1.8.0)\n",
      "Collecting twine (from pyloco>=0.0.134->matplot)\n",
      "  Downloading twine-6.1.0-py3-none-any.whl.metadata (3.7 kB)\n",
      "Collecting typing (from pyloco>=0.0.134->matplot)\n",
      "  Downloading typing-3.7.4.3.tar.gz (78 kB)\n",
      "  Installing build dependencies: started\n",
      "  Installing build dependencies: finished with status 'done'\n",
      "  Getting requirements to build wheel: started\n",
      "  Getting requirements to build wheel: finished with status 'done'\n",
      "  Preparing metadata (pyproject.toml): started\n",
      "  Preparing metadata (pyproject.toml): finished with status 'done'\n",
      "Collecting SimpleWebSocketServer (from pyloco>=0.0.134->matplot)\n",
      "  Downloading SimpleWebSocketServer-0.1.2.tar.gz (10 kB)\n",
      "  Installing build dependencies: started\n",
      "  Installing build dependencies: finished with status 'done'\n",
      "  Getting requirements to build wheel: started\n",
      "  Getting requirements to build wheel: finished with status 'done'\n",
      "  Preparing metadata (pyproject.toml): started\n",
      "  Preparing metadata (pyproject.toml): finished with status 'done'\n",
      "Requirement already satisfied: six>=1.5 in c:\\users\\esska\\appdata\\local\\programs\\python\\python313\\lib\\site-packages (from python-dateutil>=2.7->matplotlib>=3.1.1->matplot) (1.17.0)\n",
      "Collecting readme-renderer>=35.0 (from twine->pyloco>=0.0.134->matplot)\n",
      "  Downloading readme_renderer-44.0-py3-none-any.whl.metadata (2.8 kB)\n",
      "Requirement already satisfied: requests>=2.20 in c:\\users\\esska\\appdata\\local\\programs\\python\\python313\\lib\\site-packages (from twine->pyloco>=0.0.134->matplot) (2.32.3)\n",
      "Collecting requests-toolbelt!=0.9.0,>=0.8.0 (from twine->pyloco>=0.0.134->matplot)\n",
      "  Downloading requests_toolbelt-1.0.0-py2.py3-none-any.whl.metadata (14 kB)\n",
      "Requirement already satisfied: urllib3>=1.26.0 in c:\\users\\esska\\appdata\\local\\programs\\python\\python313\\lib\\site-packages (from twine->pyloco>=0.0.134->matplot) (2.3.0)\n",
      "Collecting keyring>=15.1 (from twine->pyloco>=0.0.134->matplot)\n",
      "  Downloading keyring-25.6.0-py3-none-any.whl.metadata (20 kB)\n",
      "Collecting rfc3986>=1.4.0 (from twine->pyloco>=0.0.134->matplot)\n",
      "  Downloading rfc3986-2.0.0-py2.py3-none-any.whl.metadata (6.6 kB)\n",
      "Collecting rich>=12.0.0 (from twine->pyloco>=0.0.134->matplot)\n",
      "  Downloading rich-14.0.0-py3-none-any.whl.metadata (18 kB)\n",
      "Collecting id (from twine->pyloco>=0.0.134->matplot)\n",
      "  Downloading id-1.5.0-py3-none-any.whl.metadata (5.2 kB)\n",
      "Collecting pywin32-ctypes>=0.2.0 (from keyring>=15.1->twine->pyloco>=0.0.134->matplot)\n",
      "  Downloading pywin32_ctypes-0.2.3-py3-none-any.whl.metadata (3.9 kB)\n",
      "Collecting jaraco.classes (from keyring>=15.1->twine->pyloco>=0.0.134->matplot)\n",
      "  Downloading jaraco.classes-3.4.0-py3-none-any.whl.metadata (2.6 kB)\n",
      "Collecting jaraco.functools (from keyring>=15.1->twine->pyloco>=0.0.134->matplot)\n",
      "  Downloading jaraco.functools-4.1.0-py3-none-any.whl.metadata (2.9 kB)\n",
      "Collecting jaraco.context (from keyring>=15.1->twine->pyloco>=0.0.134->matplot)\n",
      "  Downloading jaraco.context-6.0.1-py3-none-any.whl.metadata (4.1 kB)\n",
      "Collecting nh3>=0.2.14 (from readme-renderer>=35.0->twine->pyloco>=0.0.134->matplot)\n",
      "  Downloading nh3-0.2.21-cp38-abi3-win_amd64.whl.metadata (2.1 kB)\n",
      "Collecting docutils>=0.21.2 (from readme-renderer>=35.0->twine->pyloco>=0.0.134->matplot)\n",
      "  Downloading docutils-0.21.2-py3-none-any.whl.metadata (2.8 kB)\n",
      "Requirement already satisfied: Pygments>=2.5.1 in c:\\users\\esska\\appdata\\local\\programs\\python\\python313\\lib\\site-packages (from readme-renderer>=35.0->twine->pyloco>=0.0.134->matplot) (2.19.1)\n",
      "Requirement already satisfied: charset-normalizer<4,>=2 in c:\\users\\esska\\appdata\\local\\programs\\python\\python313\\lib\\site-packages (from requests>=2.20->twine->pyloco>=0.0.134->matplot) (3.4.1)\n",
      "Requirement already satisfied: idna<4,>=2.5 in c:\\users\\esska\\appdata\\local\\programs\\python\\python313\\lib\\site-packages (from requests>=2.20->twine->pyloco>=0.0.134->matplot) (3.10)\n",
      "Requirement already satisfied: certifi>=2017.4.17 in c:\\users\\esska\\appdata\\local\\programs\\python\\python313\\lib\\site-packages (from requests>=2.20->twine->pyloco>=0.0.134->matplot) (2024.12.14)\n",
      "Collecting markdown-it-py>=2.2.0 (from rich>=12.0.0->twine->pyloco>=0.0.134->matplot)\n",
      "  Downloading markdown_it_py-3.0.0-py3-none-any.whl.metadata (6.9 kB)\n",
      "Collecting mdurl~=0.1 (from markdown-it-py>=2.2.0->rich>=12.0.0->twine->pyloco>=0.0.134->matplot)\n",
      "  Downloading mdurl-0.1.2-py3-none-any.whl.metadata (1.6 kB)\n",
      "Collecting more-itertools (from jaraco.classes->keyring>=15.1->twine->pyloco>=0.0.134->matplot)\n",
      "  Downloading more_itertools-10.7.0-py3-none-any.whl.metadata (37 kB)\n",
      "Downloading matplot-0.1.9-py2.py3-none-any.whl (5.0 kB)\n",
      "Downloading matplotlib-3.10.1-cp313-cp313-win_amd64.whl (8.1 MB)\n",
      "   ---------------------------------------- 0.0/8.1 MB ? eta -:--:--\n",
      "   ---------------------------------------  7.9/8.1 MB 45.6 MB/s eta 0:00:01\n",
      "   ---------------------------------------- 8.1/8.1 MB 39.3 MB/s eta 0:00:00\n",
      "Downloading pyloco-0.0.139-py2.py3-none-any.whl (60 kB)\n",
      "Downloading contourpy-1.3.2-cp313-cp313-win_amd64.whl (223 kB)\n",
      "Downloading cycler-0.12.1-py3-none-any.whl (8.3 kB)\n",
      "Downloading fonttools-4.57.0-cp313-cp313-win_amd64.whl (2.2 MB)\n",
      "   ---------------------------------------- 0.0/2.2 MB ? eta -:--:--\n",
      "   ---------------------------------------- 2.2/2.2 MB 35.2 MB/s eta 0:00:00\n",
      "Downloading kiwisolver-1.4.8-cp313-cp313-win_amd64.whl (71 kB)\n",
      "Downloading pillow-11.2.1-cp313-cp313-win_amd64.whl (2.7 MB)\n",
      "   ---------------------------------------- 0.0/2.7 MB ? eta -:--:--\n",
      "   ---------------------------------------- 2.7/2.7 MB 37.8 MB/s eta 0:00:00\n",
      "Downloading pyparsing-3.2.3-py3-none-any.whl (111 kB)\n",
      "Downloading twine-6.1.0-py3-none-any.whl (40 kB)\n",
      "Downloading keyring-25.6.0-py3-none-any.whl (39 kB)\n",
      "Downloading readme_renderer-44.0-py3-none-any.whl (13 kB)\n",
      "Downloading requests_toolbelt-1.0.0-py2.py3-none-any.whl (54 kB)\n",
      "Downloading rfc3986-2.0.0-py2.py3-none-any.whl (31 kB)\n",
      "Downloading rich-14.0.0-py3-none-any.whl (243 kB)\n",
      "Downloading id-1.5.0-py3-none-any.whl (13 kB)\n",
      "Downloading docutils-0.21.2-py3-none-any.whl (587 kB)\n",
      "   ---------------------------------------- 0.0/587.4 kB ? eta -:--:--\n",
      "   --------------------------------------- 587.4/587.4 kB 16.6 MB/s eta 0:00:00\n",
      "Downloading markdown_it_py-3.0.0-py3-none-any.whl (87 kB)\n",
      "Downloading nh3-0.2.21-cp38-abi3-win_amd64.whl (535 kB)\n",
      "   ---------------------------------------- 0.0/535.3 kB ? eta -:--:--\n",
      "   --------------------------------------- 535.3/535.3 kB 18.0 MB/s eta 0:00:00\n",
      "Downloading pywin32_ctypes-0.2.3-py3-none-any.whl (30 kB)\n",
      "Downloading jaraco.classes-3.4.0-py3-none-any.whl (6.8 kB)\n",
      "Downloading jaraco.context-6.0.1-py3-none-any.whl (6.8 kB)\n",
      "Downloading jaraco.functools-4.1.0-py3-none-any.whl (10 kB)\n",
      "Downloading mdurl-0.1.2-py3-none-any.whl (10.0 kB)\n",
      "Downloading more_itertools-10.7.0-py3-none-any.whl (65 kB)\n",
      "Building wheels for collected packages: SimpleWebSocketServer, typing, ushlex\n",
      "  Building wheel for SimpleWebSocketServer (pyproject.toml): started\n",
      "  Building wheel for SimpleWebSocketServer (pyproject.toml): finished with status 'done'\n",
      "  Created wheel for SimpleWebSocketServer: filename=simplewebsocketserver-0.1.2-py3-none-any.whl size=9740 sha256=5caec5fe86a31871c21dd063277fea455e8c3103bfa75919ff47afd96bab3e37\n",
      "  Stored in directory: c:\\users\\esska\\appdata\\local\\pip\\cache\\wheels\\c4\\5b\\e8\\4f2c15a82edc4923058056f6681373168be02a0c00389a6dcf\n",
      "  Building wheel for typing (pyproject.toml): started\n",
      "  Building wheel for typing (pyproject.toml): finished with status 'done'\n",
      "  Created wheel for typing: filename=typing-3.7.4.3-py3-none-any.whl size=26418 sha256=4f215b2cf6699992148455a8a298e148055e4af1e6b2c934f9b209b0c3a0de9d\n",
      "  Stored in directory: c:\\users\\esska\\appdata\\local\\pip\\cache\\wheels\\5d\\1b\\f4\\fbdc2bc618f0ba7aec7295d67f62d40e6027a6ce14df9ec3c8\n",
      "  Building wheel for ushlex (pyproject.toml): started\n",
      "  Building wheel for ushlex (pyproject.toml): finished with status 'done'\n",
      "  Created wheel for ushlex: filename=ushlex-0.99.1-py3-none-any.whl size=4442 sha256=e5e599d81c37dc1aa31d19da6b8cbc417b34d83a6eb3f163620558e934cc8385\n",
      "  Stored in directory: c:\\users\\esska\\appdata\\local\\pip\\cache\\wheels\\16\\ce\\42\\80bb6d08441125add15f5a23ea29349187216bcb832ef1d313\n",
      "Successfully built SimpleWebSocketServer typing ushlex\n",
      "Installing collected packages: ushlex, SimpleWebSocketServer, typing, rfc3986, pywin32-ctypes, pyparsing, pillow, nh3, more-itertools, mdurl, kiwisolver, jaraco.context, fonttools, docutils, cycler, contourpy, requests-toolbelt, readme-renderer, matplotlib, markdown-it-py, jaraco.functools, jaraco.classes, id, rich, keyring, twine, pyloco, matplot\n",
      "Successfully installed SimpleWebSocketServer-0.1.2 contourpy-1.3.2 cycler-0.12.1 docutils-0.21.2 fonttools-4.57.0 id-1.5.0 jaraco.classes-3.4.0 jaraco.context-6.0.1 jaraco.functools-4.1.0 keyring-25.6.0 kiwisolver-1.4.8 markdown-it-py-3.0.0 matplot-0.1.9 matplotlib-3.10.1 mdurl-0.1.2 more-itertools-10.7.0 nh3-0.2.21 pillow-11.2.1 pyloco-0.0.139 pyparsing-3.2.3 pywin32-ctypes-0.2.3 readme-renderer-44.0 requests-toolbelt-1.0.0 rfc3986-2.0.0 rich-14.0.0 twine-6.1.0 typing-3.7.4.3 ushlex-0.99.1\n"
     ]
    },
    {
     "name": "stderr",
     "output_type": "stream",
     "text": [
      "\n",
      "[notice] A new release of pip is available: 24.3.1 -> 25.0.1\n",
      "[notice] To update, run: python.exe -m pip install --upgrade pip\n"
     ]
    }
   ],
   "source": [
    "!pip install matplot\n"
   ]
  },
  {
   "cell_type": "code",
   "execution_count": 2,
   "id": "a0cea661",
   "metadata": {},
   "outputs": [
    {
     "data": {
      "image/png": "[encoded data removed]",
      "text/plain": [
       "<Figure size 640x480 with 1 Axes>"
      ]
     },
     "metadata": {},
     "output_type": "display_data"
    }
   ],
   "source": [
    "import matplotlib.pyplot as plt\n",
    "\n",
    "# Sample data for testing\n",
    "categories = ['A', 'B', 'C', 'D']\n",
    "values = [10, 20, 15, 30]\n",
    "\n",
    "# Create a bar plot\n",
    "plt.bar(categories, values)\n",
    "\n",
    "# Add labels and title\n",
    "plt.xlabel('Categories')\n",
    "plt.ylabel('Values')\n",
    "plt.title('Simple Bar Plot')\n",
    "\n",
    "# Show the plot\n",
    "plt.show()"
   ]
  }
 ],
 "metadata": {
  "kernelspec": {
   "display_name": "Python 3",
   "language": "python",
   "name": "python3"
  },
  "language_info": {
   "codemirror_mode": {
    "name": "ipython",
    "version": 3
   },
   "file_extension": ".py",
   "mimetype": "text/x-python",
   "name": "python",
   "nbconvert_exporter": "python",
   "pygments_lexer": "ipython3",
   "version": "3.13.1"
  }
 },
 "nbformat": 4,
 "nbformat_minor": 5
}
