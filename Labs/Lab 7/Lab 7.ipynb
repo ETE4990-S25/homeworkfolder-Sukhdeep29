{
 "cells": [
  {
   "cell_type": "code",
   "execution_count": null,
   "metadata": {},
   "outputs": [],
   "source": [
    "import hashlib\n"
   ]
  },
  {
   "cell_type": "code",
   "execution_count": null,
   "metadata": {},
   "outputs": [],
   "source": [
    "hashlib.md5(open(\"test.txt\",\"rb\").read()).hexdigest()\n"
   ]
  },
  {
   "cell_type": "code",
   "execution_count": null,
   "metadata": {},
   "outputs": [],
   "source": [
    "hashlib.sha256(open(\"test.txt\",\"rb\").read()).hexdigest()"
   ]
  },
  {
   "cell_type": "code",
   "execution_count": null,
   "metadata": {},
   "outputs": [
    {
     "name": "stdout",
     "output_type": "stream",
     "text": [
      "\n",
      " File Duplicate Finder.\n",
      "1. Enter directory to find.\n",
      "2. Exit.\n",
      "Invalid directory. Please enter a valid path.\n",
      "\n",
      " File Duplicate Finder.\n",
      "1. Enter directory to find.\n",
      "2. Exit.\n",
      "Please enter a valid number.\n",
      "\n",
      " File Duplicate Finder.\n",
      "1. Enter directory to find.\n",
      "2. Exit.\n",
      "Please enter a valid number.\n",
      "\n",
      " File Duplicate Finder.\n",
      "1. Enter directory to find.\n",
      "2. Exit.\n",
      "Invalid directory. Please enter a valid path.\n",
      "\n",
      " File Duplicate Finder.\n",
      "1. Enter directory to find.\n",
      "2. Exit.\n",
      "Invalid directory. Please enter a valid path.\n",
      "\n",
      " File Duplicate Finder.\n",
      "1. Enter directory to find.\n",
      "2. Exit.\n",
      "Please enter a valid number.\n",
      "\n",
      " File Duplicate Finder.\n",
      "1. Enter directory to find.\n",
      "2. Exit.\n",
      "Please enter a valid number.\n",
      "\n",
      " File Duplicate Finder.\n",
      "1. Enter directory to find.\n",
      "2. Exit.\n",
      "Please enter a valid number.\n",
      "\n",
      " File Duplicate Finder.\n",
      "1. Enter directory to find.\n",
      "2. Exit.\n",
      "Please enter a valid number.\n",
      "\n",
      " File Duplicate Finder.\n",
      "1. Enter directory to find.\n",
      "2. Exit.\n"
     ]
    }
   ],
   "source": [
    "###Lab 7 (March 7th, 2025)\n",
    "import os\n",
    "import hashlib\n",
    "\n",
    "def menu():\n",
    "    while True:\n",
    "        print(\"\\n File Duplicate Finder.\")\n",
    "        print(\"1. Enter directory to find.\")\n",
    "        print(\"2. Exit.\")\n",
    "\n",
    "        try:\n",
    "            choice = int(input(\"Choose an option: \")) \n",
    "            if choice == 1:\n",
    "                directory= input(\"Enter Directory Path: \")\n",
    "                if os.path.isdir(directory):\n",
    "                    find_duplicates(directory)\n",
    "                else:\n",
    "                    print(\"Invalid directory. Please enter a valid path.\")\n",
    "            elif choice == 2:\n",
    "                break\n",
    "            else:\n",
    "                print(\"Invalid option. Please choose an option 1 or 2.\")\n",
    "        except ValueError:\n",
    "            print(\"Please enter a valid number.\")\n",
    "\n",
    "def find_duplicates(directory):\n",
    "    hashes = {}  ###Learned this from the internet to save the file in here while checking for duplicates. \n",
    "    duplicates = [] ### Same as above. \n",
    "    for root,_, files in os.walk(directory):\n",
    "        for file in files:\n",
    "            file_path = os.path.join(root,file)\n",
    "            file_hash = get_checksum(file_path)\n",
    "\n",
    "            if file_hash in hashes:\n",
    "                duplicates.append((file_path, hashes[file_hash]))\n",
    "            else:\n",
    "                hashes[file_hash] = file_path\n",
    "    \n",
    "    if duplicates:\n",
    "        print(\"\\n Duplicate Files Found:\")\n",
    "        for duplicates, existing_file in duplicates:\n",
    "            print(duplicates, \"is a duplicate of\", existing_file)\n",
    "    else:\n",
    "        print(\"\\n No duplicate files found.\") \n",
    "\n",
    "\n",
    "def get_checksum(file_path):\n",
    "    hash_obj = hashlib.md5()  # Change to hashlib.sha256() if desired\n",
    "    try:\n",
    "        with open(file_path, 'rb') as f:\n",
    "            while chunk := f.read(8192):\n",
    "                hash_obj.update(chunk)\n",
    "        return hash_obj.hexdigest()\n",
    "    except FileNotFoundError:\n",
    "        print(\"Error accessing file: \", file_path)\n",
    "\n",
    "if __name__ == \"__main__\":\n",
    "    menu()\n",
    "\n",
    "\n"
   ]
  },
  {
   "cell_type": "code",
   "execution_count": null,
   "metadata": {},
   "outputs": [],
   "source": [
    "def find_duplicates(directory):\n",
    "    for root,_, files in os.walk(directory):\n",
    "        for file in files:\n",
    "            file_path = os.path.join(root,file)\n",
    "\n",
    "def get_checksum(file_path):\n",
    "    hash_obj = hashlib.md5()  # Change to hashlib.sha256() if desired\n",
    "    with open(file_path, 'rb') as f:\n",
    "        while chunk := f.read(8192):\n",
    "            hash_obj.update(chunk)\n",
    "    return hash_obj.hexdigest()\n",
    "\n",
    "if __name__ == \"__main__\":\n",
    "    menu()\n",
    "\n"
   ]
  }
 ],
 "metadata": {
  "kernelspec": {
   "display_name": "Python 3",
   "language": "python",
   "name": "python3"
  },
  "language_info": {
   "codemirror_mode": {
    "name": "ipython",
    "version": 3
   },
   "file_extension": ".py",
   "mimetype": "text/x-python",
   "name": "python",
   "nbconvert_exporter": "python",
   "pygments_lexer": "ipython3",
   "version": "3.13.1"
  }
 },
 "nbformat": 4,
 "nbformat_minor": 2
}
