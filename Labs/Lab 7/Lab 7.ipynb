{
 "cells": [
  {
   "cell_type": "code",
   "execution_count": 4,
   "metadata": {},
   "outputs": [],
   "source": [
    "import hashlib\n"
   ]
  },
  {
   "cell_type": "code",
   "execution_count": 5,
   "metadata": {},
   "outputs": [
    {
     "data": {
      "text/plain": [
       "'d41d8cd98f00b204e9800998ecf8427e'"
      ]
     },
     "execution_count": 5,
     "metadata": {},
     "output_type": "execute_result"
    }
   ],
   "source": [
    "hashlib.md5(open(\"test.txt\",\"rb\").read()).hexdigest()\n"
   ]
  },
  {
   "cell_type": "code",
   "execution_count": 6,
   "metadata": {},
   "outputs": [
    {
     "data": {
      "text/plain": [
       "'e3b0c44298fc1c149afbf4c8996fb92427ae41e4649b934ca495991b7852b855'"
      ]
     },
     "execution_count": 6,
     "metadata": {},
     "output_type": "execute_result"
    }
   ],
   "source": [
    "hashlib.sha256(open(\"test.txt\",\"rb\").read()).hexdigest()"
   ]
  },
  {
   "cell_type": "code",
   "execution_count": null,
   "metadata": {},
   "outputs": [
    {
     "name": "stdout",
     "output_type": "stream",
     "text": [
      "\n",
      " File Duplicate Finder.\n",
      "1. Enter directory to find.\n",
      "2. Exit.\n",
      "\n",
      " No duplicate files found.\n",
      "\n",
      " File Duplicate Finder.\n",
      "1. Enter directory to find.\n",
      "2. Exit.\n",
      "\n",
      " No duplicate files found.\n",
      "\n",
      " File Duplicate Finder.\n",
      "1. Enter directory to find.\n",
      "2. Exit.\n",
      "\n",
      " No duplicate files found.\n",
      "\n",
      " File Duplicate Finder.\n",
      "1. Enter directory to find.\n",
      "2. Exit.\n",
      "\n",
      " No duplicate files found.\n",
      "\n",
      " File Duplicate Finder.\n",
      "1. Enter directory to find.\n",
      "2. Exit.\n"
     ]
    }
   ],
   "source": [
    "###Lab 7 (March 7th, 2025)\n",
    "import os\n",
    "import hashlib\n",
    "\n",
    "def menu():\n",
    "    while True:\n",
    "        print(\"\\n File Duplicate Finder.\")\n",
    "        print(\"1. Enter directory to find.\")\n",
    "        print(\"2. Exit.\")\n",
    "        choice = int(input(\"Choose an option: \")) \n",
    "        if choice == 1:\n",
    "            directory= input(\"Enter Directory Path: \")\n",
    "            find_duplicates(directory)\n",
    "        elif choice == 2:\n",
    "            break\n",
    "def find_duplicates(homework):\n",
    "    hashes = {}\n",
    "    duplicates = []\n",
    "    for root,_, files in os.walk(homework):\n",
    "        for file in files:\n",
    "            homework_folder = os.path.join(root,file)\n",
    "            file_hash = get_checksum(homework_folder)\n",
    "\n",
    "            if file_hash in hashes:\n",
    "                duplicates.append((homework_folder, hashes[file_hash]))\n",
    "            else:\n",
    "                hashes[file_hash] + homework_folder\n",
    "    \n",
    "    if duplicates:\n",
    "        print(\"\\n Duplicate Files Found:\")\n",
    "        for duplicates, existing_file in duplicates:\n",
    "            print(duplicates, \"is a duplicate of\", existing_file)\n",
    "    else:\n",
    "        print(\"\\n No duplicate files found.\") \n",
    "\n",
    "\n",
    "\n",
    "def get_checksum(homework_folder):\n",
    "    hash_obj = hashlib.md5()  # Change to hashlib.sha256() if desired\n",
    "    with open(homework_folder, 'rb') as f:\n",
    "        while chunk := f.read(8192):\n",
    "            hash_obj.update(chunk)\n",
    "    return hash_obj.hexdigest()\n",
    "\n",
    "if __name__ == \"__main__\":\n",
    "    menu()\n",
    "\n",
    "\n"
   ]
  },
  {
   "cell_type": "code",
   "execution_count": null,
   "metadata": {},
   "outputs": [],
   "source": [
    "def find_duplicates(directory):\n",
    "    for root,_, files in os.walk(directory):\n",
    "        for file in files:\n",
    "            file_path = os.path.join(root,file)\n",
    "\n",
    "def get_checksum(file_path):\n",
    "    hash_obj = hashlib.md5()  # Change to hashlib.sha256() if desired\n",
    "    with open(file_path, 'rb') as f:\n",
    "        while chunk := f.read(8192):\n",
    "            hash_obj.update(chunk)\n",
    "    return hash_obj.hexdigest()\n",
    "\n",
    "if __name__ == \"__main__\":\n",
    "    menu()\n",
    "\n"
   ]
  }
 ],
 "metadata": {
  "kernelspec": {
   "display_name": "Python 3",
   "language": "python",
   "name": "python3"
  },
  "language_info": {
   "codemirror_mode": {
    "name": "ipython",
    "version": 3
   },
   "file_extension": ".py",
   "mimetype": "text/x-python",
   "name": "python",
   "nbconvert_exporter": "python",
   "pygments_lexer": "ipython3",
   "version": "3.13.1"
  }
 },
 "nbformat": 4,
 "nbformat_minor": 2
}
