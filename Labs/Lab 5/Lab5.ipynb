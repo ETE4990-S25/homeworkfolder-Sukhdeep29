{
 "cells": [
  {
   "cell_type": "code",
   "execution_count": null,
   "metadata": {},
   "outputs": [],
   "source": [
    "#Original Code from my partner \n",
    "class Exploring(object):\n",
    "     \"\"\"Create a sharp weapon\"\"\"\n",
    "def __init__(self, jump, sneak, effectiveness=0):\n",
    "        \"\"\" Initialize jump, sneak, and effectiveness.\"\"\"\n",
    "        self.jump = jump\n",
    "        self.sneak = sneak\n",
    "        self.effectiveness = effectiveness\n",
    "def how_effective(self, target):\n",
    "        target = target - self.effectiveness\n"
   ]
  },
  {
   "cell_type": "code",
   "execution_count": null,
   "metadata": {},
   "outputs": [
    {
     "name": "stderr",
     "output_type": "stream",
     "text": [
      "E\n",
      "======================================================================\n",
      "ERROR: test_how_effective_method (__main__.Test_Exploring.test_how_effective_method)\n",
      "Test if how_effective method modifies the target correctly.\n",
      "----------------------------------------------------------------------\n",
      "Traceback (most recent call last):\n",
      "  File \"C:\\Users\\esska\\AppData\\Local\\Temp\\ipykernel_25340\\415441967.py\", line 11, in test_how_effective_method\n",
      "    weapon= Exploring(1,2,3)\n",
      "TypeError: Exploring() takes no arguments\n",
      "\n",
      "----------------------------------------------------------------------\n",
      "Ran 1 test in 0.002s\n",
      "\n",
      "FAILED (errors=1)\n"
     ]
    }
   ],
   "source": [
    "#Unit testing the above code\n",
    "import unittest\n",
    "class Test_Exploring(unittest.TestCase):\n",
    "    def Test_object_initialization(self):\n",
    "       \"\"\"Test if an exploring object initilazes correctly with the given value\"\"\"\n",
    "       weapon= Exploring(15, 10, 5) \n",
    "       self.assertEqual(weapon.jump, 15)\n",
    "       self.assertEqual(weapon.sneak, 10)\n",
    "       self.assertEqual(weapon.effectiveness, 5)\n",
    "    def test_how_effective_method(self):\n",
    "        \"\"\"Test if how_effective method modifies the target correctly.\"\"\"\n",
    "        weapon= Exploring(1,2,3) #Test will fail since initialized value is different than provided value here. \n",
    "        target_value= 20\n",
    "        result=weapon.how_effective(target_value)\n",
    "        self.assertIsNone(result)\n",
    "if __name__ == '__main__':\n",
    "    unittest.main(argv=['first-arg-is-ignored'],exit=False)\n",
    "    \n",
    "\n",
    "\n"
   ]
  },
  {
   "cell_type": "code",
   "execution_count": 4,
   "metadata": {},
   "outputs": [],
   "source": [
    "#Second set of my partner's code\n",
    "class cat_moves(Exploring):\n",
    "    \"\"\"initializes basic actions a cat can do\"\"\"\n",
    "    def __init__(self, jump, sneak, effectiveness=0):\n",
    "        \"\"\"sets up basic actions\"\"\"\n",
    "        super().init(self, jump, sneak, effectiveness)\n",
    "        self.poision = True\n",
    "    def furniture_leap(self, effectiveness=0):\n",
    "        super().furniture_leap(self, effectiveness)\n",
    "    def climb(self, effectiveness=0):\n",
    "        super().climb(self, effectiveness)\n"
   ]
  },
  {
   "cell_type": "code",
   "execution_count": null,
   "metadata": {},
   "outputs": [
    {
     "name": "stderr",
     "output_type": "stream",
     "text": [
      "E\n",
      "======================================================================\n",
      "ERROR: test_object_creation (__main__.Test_Exploring.test_object_creation)\n",
      "----------------------------------------------------------------------\n",
      "Traceback (most recent call last):\n",
      "  File \"C:\\Users\\esska\\AppData\\Local\\Temp\\ipykernel_25340\\3219289357.py\", line 12, in test_object_creation\n",
      "    weapon= Exploring(\"Jump\", \"Sneak\", 5)\n",
      "TypeError: Exploring() takes no arguments\n",
      "\n",
      "----------------------------------------------------------------------\n",
      "Ran 1 test in 0.001s\n",
      "\n",
      "FAILED (errors=1)\n"
     ]
    }
   ],
   "source": [
    "#Testing the above code\n",
    "import unittest\n",
    "class \n",
    "def __init__(self, jump, sneak,effectiveness=0):\n",
    "    self.jump = jump\n",
    "    self.sneak = sneak\n",
    "    self.effectiveness = effectiveness\n",
    "def how_effective(self, value):\n",
    "    return value * 2\n",
    "\n",
    "class Test_Exploring(unittest.TestCase):\n",
    "    def test_object_creation(self):\n",
    "        weapon= Exploring(\"Jump\", \"Sneak\", 5)\n",
    "        self.assertEqual(weapon.effectiveness, 5)\n",
    "\n",
    "    def Test_method_existence(self):\n",
    "        weapon= Exploring(weapon=5)\n",
    "        result= weapon.howeffective(50)\n",
    "        self.assertIsNotNone(result)\n",
    "if __name__== \"__main__\":\n",
    "    unittest.main(argv=['first-arg-is-ignored'],exit=False)\n",
    "    "
   ]
  },
  {
   "cell_type": "code",
   "execution_count": 32,
   "metadata": {},
   "outputs": [],
   "source": [
    "\n",
    "\n",
    "class dog_moves(Exploring):\n",
    "    \"\"\"initializes basic actions a dog can do\"\"\"\n",
    "    def __init__(self, jump, sneak, effectiveness=0):\n",
    "        \"\"\"sets up basic actions\"\"\"\n",
    "        super().__init__(jump, sneak, effectiveness)\n",
    "        self.poision = True\n",
    "    def sprint(self, effectiveness=0):\n",
    "        super().sprint(self, effectiveness)\n",
    "    def paw_stand(self, effectiveness=0):\n",
    "        super().paw_stand(self, effectiveness)"
   ]
  },
  {
   "cell_type": "code",
   "execution_count": 35,
   "metadata": {},
   "outputs": [
    {
     "name": "stderr",
     "output_type": "stream",
     "text": [
      ".\n",
      "----------------------------------------------------------------------\n",
      "Ran 1 test in 0.001s\n",
      "\n",
      "OK\n"
     ]
    }
   ],
   "source": [
    "import unittest\n",
    "class Test_Exploring(unittest.TestCase):\n",
    "    def test_moves_jump_returns_jump(self):\n",
    "        self.assertEqual(dog_moves(1,1,1).effectiveness,1)\n",
    "if __name__== \"__main__\":\n",
    "    unittest.main(argv=['first-arg-is-ignored'],exit=False)"
   ]
  }
 ],
 "metadata": {
  "kernelspec": {
   "display_name": "Python 3",
   "language": "python",
   "name": "python3"
  },
  "language_info": {
   "codemirror_mode": {
    "name": "ipython",
    "version": 3
   },
   "file_extension": ".py",
   "mimetype": "text/x-python",
   "name": "python",
   "nbconvert_exporter": "python",
   "pygments_lexer": "ipython3",
   "version": "3.13.1"
  }
 },
 "nbformat": 4,
 "nbformat_minor": 2
}
