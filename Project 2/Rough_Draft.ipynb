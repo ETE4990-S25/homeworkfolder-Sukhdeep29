{
 "cells": [
  {
   "cell_type": "code",
   "execution_count": null,
   "metadata": {},
   "outputs": [
    {
     "name": "stdout",
     "output_type": "stream",
     "text": [
      "Starting Calculations\n",
      "Error occured during multi core.\n",
      "Highest prime using multi core: None\n",
      "Time taken: 0.3442189693450928 seconds.\n",
      "Highest prime using threading: 999983\n",
      "Time taken:  0.0021092891693115234 seconds.\n"
     ]
    },
    {
     "name": "stdout",
     "output_type": "stream",
     "text": [
      "Highest prime using asynchronous: 999983\n",
      "Time taken: 0.00213623046875 seconds.\n"
     ]
    }
   ],
   "source": [
    "###Rough draft, without fibonacci and factorial. \n",
    "import multiprocessing\n",
    "import threading\n",
    "import asyncio \n",
    "import time\n",
    "import concurrent.futures\n",
    "\n",
    "def is_prime(n):\n",
    "    if n<=1:\n",
    "        return False\n",
    "    for i in range(2, int(n**0.5)+1):\n",
    "        if n % i ==0:\n",
    "            return False\n",
    "    return True\n",
    "\n",
    "def highest_prime(start, end):\n",
    "    prime_num=0\n",
    "    for i in range(start, end, -1):\n",
    "        if is_prime(i):\n",
    "            prime_num= i\n",
    "            break\n",
    "        if i % 10000000 ==0:\n",
    "            print(f\"Checking {i}...\")\n",
    "    return prime_num\n",
    "\n",
    "def multi_core(time_limit):\n",
    "    start_time= time.time()\n",
    "    with concurrent.futures.ProcessPoolExecutor() as executor:\n",
    "        result= executor.submit(highest_prime, 10**6, 0)\n",
    "        try:\n",
    "            prime_num= result.result(timeout=time_limit)\n",
    "        except concurrent.futures.TimeoutError:\n",
    "            prime_num= None\n",
    "            print(\"Time exceeded during multi core.\")\n",
    "        except Exception:\n",
    "            prime_num= None\n",
    "            print(\"Error occured during multi core.\")\n",
    "    end_time= time.time()\n",
    "    print(\"Highest prime using multi core:\", prime_num)\n",
    "    print(\"Time taken:\", end_time - start_time, \"seconds.\")\n",
    "\n",
    "def thread(time_limit):\n",
    "    start_time= time.time()\n",
    "    with concurrent.futures.ThreadPoolExecutor() as executor:\n",
    "        result= executor.submit(highest_prime, 10**6,0)\n",
    "        try:\n",
    "            prime_num= result.result(timeout=time_limit)\n",
    "        except concurrent.futures.TimeoutError:\n",
    "            prime_num=None\n",
    "            print(\"Time exceeded during threading.\")\n",
    "    end_time= time.time()\n",
    "    print(\"Highest prime using threading:\", prime_num)\n",
    "    print(\"Time taken: \", end_time - start_time, \"seconds.\")\n",
    "\n",
    "async def asynchro(time_limit):\n",
    "    start_time= time.time()\n",
    "    loop= asyncio.get_running_loop()\n",
    "    try:\n",
    "        result= await asyncio.wait_for(loop.run_in_executor(None,highest_prime, 10**6, 0), timeout=time_limit)\n",
    "    except asyncio.TimeoutError:\n",
    "        result= None\n",
    "        print(\"Time exceeded during asynchronous.\")\n",
    "    end_time= time.time()\n",
    "    print(\"Highest prime using asynchronous:\", result)\n",
    "    print(\"Time taken:\", end_time - start_time, \"seconds.\")\n",
    "\n",
    "\n",
    "if __name__==\"__main__\":\n",
    "    time_limit= 180\n",
    "    print(\"Starting Calculations\")\n",
    "\n",
    "    multi_core(time_limit)\n",
    "\n",
    "    thread(time_limit)\n",
    "\n",
    "    try:\n",
    "        loop= asyncio.get_event_loop()\n",
    "        if loop.is_running():\n",
    "            asyncio.ensure_future(asynchro(time_limit))\n",
    "        else:\n",
    "            asyncio.run(asynchro(time_limit))\n",
    "    except RuntimeError:\n",
    "        asyncio.run(asynchro(time_limit))\n"
   ]
  }
 ],
 "metadata": {
  "kernelspec": {
   "display_name": "Python 3",
   "language": "python",
   "name": "python3"
  },
  "language_info": {
   "codemirror_mode": {
    "name": "ipython",
    "version": 3
   },
   "file_extension": ".py",
   "mimetype": "text/x-python",
   "name": "python",
   "nbconvert_exporter": "python",
   "pygments_lexer": "ipython3",
   "version": "3.13.1"
  }
 },
 "nbformat": 4,
 "nbformat_minor": 2
}
